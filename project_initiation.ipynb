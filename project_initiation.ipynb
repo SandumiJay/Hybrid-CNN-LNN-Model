{
  "nbformat": 4,
  "nbformat_minor": 0,
  "metadata": {
    "colab": {
      "provenance": [],
      "include_colab_link": true
    },
    "kernelspec": {
      "name": "python3",
      "display_name": "Python 3"
    },
    "language_info": {
      "name": "python"
    }
  },
  "cells": [
    {
      "cell_type": "markdown",
      "metadata": {
        "id": "view-in-github",
        "colab_type": "text"
      },
      "source": [
        "<a href=\"https://colab.research.google.com/github/SandumiJay/Hybrid-CNN-RNN-Model/blob/dev-2024-08-30/project_initiation.ipynb\" target=\"_parent\"><img src=\"https://colab.research.google.com/assets/colab-badge.svg\" alt=\"Open In Colab\"/></a>"
      ]
    },
    {
      "cell_type": "code",
      "execution_count": 3,
      "metadata": {
        "id": "1GppDseR99eX",
        "colab": {
          "base_uri": "https://localhost:8080/"
        },
        "outputId": "a9611052-f89b-4d27-87a9-d1553fb15436"
      },
      "outputs": [
        {
          "output_type": "stream",
          "name": "stdout",
          "text": [
            "Requirement already satisfied: absl-py>=1.0.0 in /usr/local/lib/python3.10/dist-packages (from -r requirements.txt (line 1)) (1.4.0)\n",
            "Requirement already satisfied: astunparse>=1.6.3 in /usr/local/lib/python3.10/dist-packages (from -r requirements.txt (line 2)) (1.6.3)\n",
            "Requirement already satisfied: cachetools>=4.2.4 in /usr/local/lib/python3.10/dist-packages (from -r requirements.txt (line 3)) (5.5.0)\n",
            "Requirement already satisfied: certifi>=2021.10.8 in /usr/local/lib/python3.10/dist-packages (from -r requirements.txt (line 4)) (2024.7.4)\n",
            "Requirement already satisfied: charset-normalizer>=2.0.7 in /usr/local/lib/python3.10/dist-packages (from -r requirements.txt (line 5)) (3.3.2)\n",
            "Requirement already satisfied: earthengine-api>=0.1.288 in /usr/local/lib/python3.10/dist-packages (from -r requirements.txt (line 6)) (0.1.417)\n",
            "Requirement already satisfied: flatbuffers>=2.0 in /usr/local/lib/python3.10/dist-packages (from -r requirements.txt (line 7)) (24.3.25)\n",
            "Requirement already satisfied: future>=0.18.2 in /usr/local/lib/python3.10/dist-packages (from -r requirements.txt (line 8)) (1.0.0)\n",
            "Requirement already satisfied: gast>=0.4.0 in /usr/local/lib/python3.10/dist-packages (from -r requirements.txt (line 9)) (0.6.0)\n",
            "Requirement already satisfied: google-api-core>=1.31.4 in /usr/local/lib/python3.10/dist-packages (from -r requirements.txt (line 10)) (2.19.1)\n",
            "Requirement already satisfied: google-api-python-client>=1.12.8 in /usr/local/lib/python3.10/dist-packages (from -r requirements.txt (line 11)) (2.137.0)\n",
            "Requirement already satisfied: google-auth>=1.35.0 in /usr/local/lib/python3.10/dist-packages (from -r requirements.txt (line 12)) (2.27.0)\n",
            "Requirement already satisfied: google-auth-httplib2>=0.1.0 in /usr/local/lib/python3.10/dist-packages (from -r requirements.txt (line 13)) (0.2.0)\n",
            "Requirement already satisfied: google-auth-oauthlib>=0.4.6 in /usr/local/lib/python3.10/dist-packages (from -r requirements.txt (line 14)) (1.2.1)\n",
            "Requirement already satisfied: google-cloud-core>=2.2.1 in /usr/local/lib/python3.10/dist-packages (from -r requirements.txt (line 15)) (2.4.1)\n",
            "Requirement already satisfied: google-cloud-storage>=1.42.3 in /usr/local/lib/python3.10/dist-packages (from -r requirements.txt (line 16)) (2.8.0)\n",
            "Requirement already satisfied: google-crc32c>=1.3.0 in /usr/local/lib/python3.10/dist-packages (from -r requirements.txt (line 17)) (1.5.0)\n",
            "Requirement already satisfied: google-pasta>=0.2.0 in /usr/local/lib/python3.10/dist-packages (from -r requirements.txt (line 18)) (0.2.0)\n",
            "Requirement already satisfied: google-resumable-media>=2.1.0 in /usr/local/lib/python3.10/dist-packages (from -r requirements.txt (line 19)) (2.7.2)\n",
            "Requirement already satisfied: googleapis-common-protos>=1.53.0 in /usr/local/lib/python3.10/dist-packages (from -r requirements.txt (line 20)) (1.64.0)\n",
            "Requirement already satisfied: grpcio>=1.43.0 in /usr/local/lib/python3.10/dist-packages (from -r requirements.txt (line 21)) (1.64.1)\n",
            "Requirement already satisfied: h5py>=3.6.0 in /usr/local/lib/python3.10/dist-packages (from -r requirements.txt (line 22)) (3.11.0)\n",
            "Requirement already satisfied: httplib2>=0.20.2 in /usr/local/lib/python3.10/dist-packages (from -r requirements.txt (line 23)) (0.22.0)\n",
            "Collecting httplib2shim>=0.0.3 (from -r requirements.txt (line 24))\n",
            "  Downloading httplib2shim-0.0.3.tar.gz (17 kB)\n",
            "  Preparing metadata (setup.py) ... \u001b[?25l\u001b[?25hdone\n",
            "Requirement already satisfied: idna>=3.3 in /usr/local/lib/python3.10/dist-packages (from -r requirements.txt (line 25)) (3.8)\n",
            "Requirement already satisfied: importlib-metadata>=4.10.1 in /usr/local/lib/python3.10/dist-packages (from -r requirements.txt (line 26)) (8.4.0)\n",
            "Requirement already satisfied: keras>=2.7.0 in /usr/local/lib/python3.10/dist-packages (from -r requirements.txt (line 27)) (3.4.1)\n",
            "Collecting Keras-Preprocessing>=1.1.2 (from -r requirements.txt (line 28))\n",
            "  Downloading Keras_Preprocessing-1.1.2-py2.py3-none-any.whl.metadata (1.9 kB)\n",
            "Requirement already satisfied: libclang>=12.0.0 in /usr/local/lib/python3.10/dist-packages (from -r requirements.txt (line 29)) (18.1.1)\n",
            "Requirement already satisfied: Markdown>=3.3.6 in /usr/local/lib/python3.10/dist-packages (from -r requirements.txt (line 30)) (3.7)\n",
            "Requirement already satisfied: numpy>=1.21.4 in /usr/local/lib/python3.10/dist-packages (from -r requirements.txt (line 31)) (1.26.4)\n",
            "Requirement already satisfied: oauthlib>=3.1.1 in /usr/local/lib/python3.10/dist-packages (from -r requirements.txt (line 32)) (3.2.2)\n",
            "Requirement already satisfied: opt-einsum>=3.3.0 in /usr/local/lib/python3.10/dist-packages (from -r requirements.txt (line 33)) (3.3.0)\n",
            "Requirement already satisfied: packaging>=21.2 in /usr/local/lib/python3.10/dist-packages (from -r requirements.txt (line 34)) (24.1)\n",
            "Requirement already satisfied: protobuf>=3.19.1 in /usr/local/lib/python3.10/dist-packages (from -r requirements.txt (line 35)) (3.20.3)\n",
            "Requirement already satisfied: pyasn1>=0.4.8 in /usr/local/lib/python3.10/dist-packages (from -r requirements.txt (line 36)) (0.6.0)\n",
            "Requirement already satisfied: pyasn1-modules>=0.2.8 in /usr/local/lib/python3.10/dist-packages (from -r requirements.txt (line 37)) (0.4.0)\n",
            "Requirement already satisfied: pyparsing>=2.4.7 in /usr/local/lib/python3.10/dist-packages (from -r requirements.txt (line 38)) (3.1.4)\n",
            "Requirement already satisfied: pytz>=2021.3 in /usr/local/lib/python3.10/dist-packages (from -r requirements.txt (line 39)) (2024.1)\n",
            "Requirement already satisfied: requests>=2.26.0 in /usr/local/lib/python3.10/dist-packages (from -r requirements.txt (line 40)) (2.32.3)\n",
            "Requirement already satisfied: requests-oauthlib>=1.3.0 in /usr/local/lib/python3.10/dist-packages (from -r requirements.txt (line 41)) (1.3.1)\n",
            "Requirement already satisfied: rsa>=4.7.2 in /usr/local/lib/python3.10/dist-packages (from -r requirements.txt (line 42)) (4.9)\n",
            "Requirement already satisfied: six>=1.16.0 in /usr/local/lib/python3.10/dist-packages (from -r requirements.txt (line 43)) (1.16.0)\n",
            "Requirement already satisfied: tensorboard>=2.7.0 in /usr/local/lib/python3.10/dist-packages (from -r requirements.txt (line 44)) (2.17.0)\n",
            "Requirement already satisfied: tensorboard-data-server>=0.6.1 in /usr/local/lib/python3.10/dist-packages (from -r requirements.txt (line 45)) (0.7.2)\n",
            "Collecting tensorboard-plugin-wit>=1.8.1 (from -r requirements.txt (line 46))\n",
            "  Downloading tensorboard_plugin_wit-1.8.1-py3-none-any.whl.metadata (873 bytes)\n",
            "Requirement already satisfied: tensorflow>=2.7.0 in /usr/local/lib/python3.10/dist-packages (from -r requirements.txt (line 47)) (2.17.0)\n",
            "Collecting tensorflow-estimator>=2.7.0 (from -r requirements.txt (line 48))\n",
            "  Downloading tensorflow_estimator-2.15.0-py2.py3-none-any.whl.metadata (1.3 kB)\n",
            "Requirement already satisfied: tensorflow-io-gcs-filesystem>=0.23.1 in /usr/local/lib/python3.10/dist-packages (from -r requirements.txt (line 49)) (0.37.1)\n",
            "Requirement already satisfied: termcolor>=1.1.0 in /usr/local/lib/python3.10/dist-packages (from -r requirements.txt (line 50)) (2.4.0)\n",
            "Requirement already satisfied: typing-extensions>=4.0.1 in /usr/local/lib/python3.10/dist-packages (from -r requirements.txt (line 51)) (4.12.2)\n",
            "Requirement already satisfied: uritemplate>=3.0.1 in /usr/local/lib/python3.10/dist-packages (from -r requirements.txt (line 52)) (4.1.1)\n",
            "Requirement already satisfied: urllib3>=1.26.7 in /usr/local/lib/python3.10/dist-packages (from -r requirements.txt (line 53)) (2.0.7)\n",
            "Requirement already satisfied: Werkzeug>=2.0.2 in /usr/local/lib/python3.10/dist-packages (from -r requirements.txt (line 54)) (3.0.4)\n",
            "Requirement already satisfied: wrapt>=1.13.3 in /usr/local/lib/python3.10/dist-packages (from -r requirements.txt (line 55)) (1.16.0)\n",
            "Requirement already satisfied: zipp>=3.7.0 in /usr/local/lib/python3.10/dist-packages (from -r requirements.txt (line 56)) (3.20.1)\n",
            "Requirement already satisfied: wheel<1.0,>=0.23.0 in /usr/local/lib/python3.10/dist-packages (from astunparse>=1.6.3->-r requirements.txt (line 2)) (0.44.0)\n",
            "Requirement already satisfied: proto-plus<2.0.0dev,>=1.22.3 in /usr/local/lib/python3.10/dist-packages (from google-api-core>=1.31.4->-r requirements.txt (line 10)) (1.24.0)\n",
            "Requirement already satisfied: rich in /usr/local/lib/python3.10/dist-packages (from keras>=2.7.0->-r requirements.txt (line 27)) (13.8.0)\n",
            "Requirement already satisfied: namex in /usr/local/lib/python3.10/dist-packages (from keras>=2.7.0->-r requirements.txt (line 27)) (0.0.8)\n",
            "Requirement already satisfied: optree in /usr/local/lib/python3.10/dist-packages (from keras>=2.7.0->-r requirements.txt (line 27)) (0.12.1)\n",
            "Requirement already satisfied: ml-dtypes in /usr/local/lib/python3.10/dist-packages (from keras>=2.7.0->-r requirements.txt (line 27)) (0.4.0)\n",
            "Requirement already satisfied: setuptools>=41.0.0 in /usr/local/lib/python3.10/dist-packages (from tensorboard>=2.7.0->-r requirements.txt (line 44)) (71.0.4)\n",
            "Requirement already satisfied: MarkupSafe>=2.1.1 in /usr/local/lib/python3.10/dist-packages (from Werkzeug>=2.0.2->-r requirements.txt (line 54)) (2.1.5)\n",
            "Requirement already satisfied: markdown-it-py>=2.2.0 in /usr/local/lib/python3.10/dist-packages (from rich->keras>=2.7.0->-r requirements.txt (line 27)) (3.0.0)\n",
            "Requirement already satisfied: pygments<3.0.0,>=2.13.0 in /usr/local/lib/python3.10/dist-packages (from rich->keras>=2.7.0->-r requirements.txt (line 27)) (2.16.1)\n",
            "Requirement already satisfied: mdurl~=0.1 in /usr/local/lib/python3.10/dist-packages (from markdown-it-py>=2.2.0->rich->keras>=2.7.0->-r requirements.txt (line 27)) (0.1.2)\n",
            "Downloading Keras_Preprocessing-1.1.2-py2.py3-none-any.whl (42 kB)\n",
            "\u001b[2K   \u001b[90m━━━━━━━━━━━━━━━━━━━━━━━━━━━━━━━━━━━━━━━━\u001b[0m \u001b[32m42.6/42.6 kB\u001b[0m \u001b[31m1.9 MB/s\u001b[0m eta \u001b[36m0:00:00\u001b[0m\n",
            "\u001b[?25hDownloading tensorboard_plugin_wit-1.8.1-py3-none-any.whl (781 kB)\n",
            "\u001b[2K   \u001b[90m━━━━━━━━━━━━━━━━━━━━━━━━━━━━━━━━━━━━━━━━\u001b[0m \u001b[32m781.3/781.3 kB\u001b[0m \u001b[31m13.7 MB/s\u001b[0m eta \u001b[36m0:00:00\u001b[0m\n",
            "\u001b[?25hDownloading tensorflow_estimator-2.15.0-py2.py3-none-any.whl (441 kB)\n",
            "\u001b[2K   \u001b[90m━━━━━━━━━━━━━━━━━━━━━━━━━━━━━━━━━━━━━━━━\u001b[0m \u001b[32m442.0/442.0 kB\u001b[0m \u001b[31m13.8 MB/s\u001b[0m eta \u001b[36m0:00:00\u001b[0m\n",
            "\u001b[?25hBuilding wheels for collected packages: httplib2shim\n",
            "  Building wheel for httplib2shim (setup.py) ... \u001b[?25l\u001b[?25hdone\n",
            "  Created wheel for httplib2shim: filename=httplib2shim-0.0.3-py2.py3-none-any.whl size=18041 sha256=b7d1fe410a9c01a3f20bd0eaf487494a006db211074e60f089917c3337640899\n",
            "  Stored in directory: /root/.cache/pip/wheels/88/e5/dd/0096092515d7a3711c1bbc6c2ea1933a1fe1a62da93a6072a0\n",
            "Successfully built httplib2shim\n",
            "Installing collected packages: tensorboard-plugin-wit, tensorflow-estimator, Keras-Preprocessing, httplib2shim\n",
            "Successfully installed Keras-Preprocessing-1.1.2 httplib2shim-0.0.3 tensorboard-plugin-wit-1.8.1 tensorflow-estimator-2.15.0\n"
          ]
        }
      ],
      "source": [
        "#install required libraries\n",
        "!pip install -r requirements.txt"
      ]
    },
    {
      "cell_type": "code",
      "source": [
        "from google.colab import drive\n",
        "drive.mount('/content/drive')"
      ],
      "metadata": {
        "colab": {
          "base_uri": "https://localhost:8080/"
        },
        "id": "UTpAGrhG9yVu",
        "outputId": "02e1ff9c-6033-436d-b864-e826adb1b156"
      },
      "execution_count": 1,
      "outputs": [
        {
          "output_type": "stream",
          "name": "stdout",
          "text": [
            "Mounted at /content/drive\n"
          ]
        }
      ]
    }
  ]
}