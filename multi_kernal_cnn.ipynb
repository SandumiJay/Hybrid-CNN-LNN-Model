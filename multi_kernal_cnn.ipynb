{
  "cells": [
    {
      "cell_type": "markdown",
      "metadata": {
        "id": "view-in-github",
        "colab_type": "text"
      },
      "source": [
        "<a href=\"https://colab.research.google.com/github/SandumiJay/LNN-for-Wildfire/blob/main/multi_kernal_cnn.ipynb\" target=\"_parent\"><img src=\"https://colab.research.google.com/assets/colab-badge.svg\" alt=\"Open In Colab\"/></a>"
      ]
    },
    {
      "cell_type": "markdown",
      "metadata": {
        "id": "z0m4_j-nBDl_"
      },
      "source": [
        "# **Funtionalities**"
      ]
    },
    {
      "cell_type": "code",
      "execution_count": null,
      "metadata": {
        "colab": {
          "background_save": true
        },
        "id": "6D3EfjrVZ1mz"
      },
      "outputs": [],
      "source": [
        "import glob\n",
        "import json\n",
        "import logging\n",
        "import os\n",
        "import tempfile\n",
        "import time\n",
        "from typing import Text, Dict, Any, Tuple, Optional\n",
        "\n",
        "import tensorflow as tf\n",
        "from tensorflow.compat.v2 import keras\n",
        "\n",
        "from typing import Text\n",
        "import tensorflow as tfes\n",
        "from typing import Sequence, Optional\n",
        "\n",
        "import re\n",
        "from typing import Dict, List, Optional, Text, Tuple, Callable\n",
        "\n",
        "import matplotlib.pyplot as plt\n",
        "from matplotlib import colors\n",
        "\n",
        "import tensorflow as tf\n",
        "import numpy as np\n",
        "\n",
        "from tqdm import tqdm\n",
        "from tensorflow.keras.layers import *\n",
        "from tensorflow.keras import models, layers, Model\n",
        "from tensorflow.keras import backend as K\n",
        "from tensorflow.python.keras.utils.losses_utils import reduce_weighted_loss\n",
        "from tensorflow.keras.applications import VGG16\n",
        "from tensorflow.keras.optimizers import Adam\n",
        "\n",
        "import os\n",
        "from sklearn.metrics import accuracy_score, classification_report\n",
        "from PIL import Image\n",
        "from skimage.transform import resize\n",
        "import h5py\n",
        "import time\n",
        "import immutabledict\n",
        "\n",
        "import random\n",
        "\n",
        "random.seed(42)\n",
        "np.random.seed(42)\n",
        "tf.random.set_seed(42)\n",
        "\n"
      ]
    },
    {
      "cell_type": "code",
      "execution_count": null,
      "metadata": {
        "colab": {
          "background_save": true
        },
        "id": "b-HXVDMNb7Cq"
      },
      "outputs": [],
      "source": [
        "def save_hparams(hparams, path, indent=None, sort_keys=False):\n",
        "    \"\"\"Saves hyperparameters to a JSON file.\"\"\"\n",
        "    os.makedirs(os.path.dirname(path), exist_ok=True)\n",
        "    with open(path, 'w') as f:\n",
        "        json.dump(hparams, f, indent=indent, sort_keys=sort_keys)"
      ]
    },
    {
      "cell_type": "code",
      "execution_count": null,
      "metadata": {
        "colab": {
          "background_save": true
        },
        "id": "LJwW8CX5cVue"
      },
      "outputs": [],
      "source": [
        "import os\n",
        "import tempfile\n",
        "import shutil\n",
        "import tensorflow as tf\n",
        "\n",
        "def save_keras_model(model, path):\n",
        "    \"\"\"Saves a Keras model to the specified path.\"\"\"\n",
        "    os.makedirs(os.path.dirname(path), exist_ok=True)\n",
        "    # Add .keras extension to the filepath\n",
        "    path = path + \".keras\" if not (path.endswith(\".keras\") or path.endswith(\".h5\")) else path\n",
        "    with tempfile.TemporaryDirectory() as temp_dir:\n",
        "        temp_path = os.path.join(temp_dir, 'model.keras') # Create a temporary file with .keras extension\n",
        "        model.save(temp_path) # Save to the temporary file\n",
        "        if os.path.exists(path):\n",
        "            shutil.rmtree(path)  # Remove existing directory if it exists\n",
        "        shutil.copytree(temp_dir, path, dirs_exist_ok=True) # Copy the temporary directory to the destination\n"
      ]
    },
    {
      "cell_type": "code",
      "execution_count": null,
      "metadata": {
        "colab": {
          "background_save": true
        },
        "id": "OOpAtKVqciWO"
      },
      "outputs": [],
      "source": [
        "def save_keras_model_as_h5(model, path):\n",
        "    \"\"\"Saves a Keras model to the specified path in HDF5 format.\"\"\"\n",
        "    os.makedirs(os.path.dirname(path), exist_ok=True)\n",
        "    # Add .h5 extension to the filepath\n",
        "    path = path + \".h5\" if not (path.endswith(\".keras\") or path.endswith(\".h5\")) else path\n",
        "    model.save(path, save_format='h5')\n"
      ]
    },
    {
      "cell_type": "code",
      "execution_count": null,
      "metadata": {
        "colab": {
          "background_save": true
        },
        "id": "OMWmLe4B3tMw"
      },
      "outputs": [],
      "source": [
        "def save_dict_to_json(dictionary, file_path):\n",
        "    \"\"\"Saves a dictionary to a JSON file.\"\"\"\n",
        "    with open(file_path, 'w') as f:\n",
        "        json.dump(dictionary, f, indent=4)"
      ]
    },
    {
      "cell_type": "code",
      "execution_count": null,
      "metadata": {
        "colab": {
          "background_save": true
        },
        "id": "IdFgAf3McjIL"
      },
      "outputs": [],
      "source": [
        "class BestModelExporter(tf.keras.callbacks.Callback):\n",
        "    \"\"\"Saves the best model based on specified metric (min or max).\"\"\"\n",
        "\n",
        "    def __init__(self, metric_key, mode, output_dir, use_h5=False):\n",
        "        super().__init__()\n",
        "        if mode not in ['min', 'max']:\n",
        "            raise ValueError(\"mode must be 'min' or 'max'\")\n",
        "        self.metric_key = metric_key\n",
        "        self.output_dir = output_dir\n",
        "        self.mode = mode\n",
        "        self.best = None\n",
        "        self.use_h5 = use_h5\n",
        "\n",
        "    def on_train_begin(self, logs=None):\n",
        "        # Check if output_dir exists and create if not\n",
        "        if not os.path.exists(self.output_dir):\n",
        "            os.makedirs(self.output_dir)\n",
        "\n",
        "        # Instead of reading metrics from a file, initialize best to a default value\n",
        "        if self.mode == 'min':\n",
        "            self.best = float('inf')  # Initialize with a large value for minimization\n",
        "        else:\n",
        "            self.best = float('-inf') # Initialize with a small value for maximization\n",
        "\n",
        "\n",
        "    def on_epoch_end(self, epoch, logs=None):\n",
        "        \"\"\"\n",
        "        Called at the end of each epoch. Checks if the current metric value is better than the best\n",
        "        seen so far and saves the model if it is.\n",
        "\n",
        "        Args:\n",
        "            epoch (int): The current epoch number.\n",
        "            logs (dict): Dictionary of logs.\n",
        "        \"\"\"\n",
        "        current_metric = logs.get(self.metric_key)\n",
        "\n",
        "        if current_metric is not None:  # Check if metric is available\n",
        "            if (self.mode == 'min' and current_metric < self.best) or \\\n",
        "               (self.mode == 'max' and current_metric > self.best):\n",
        "\n",
        "                self.best = current_metric\n",
        "                # Save the model\n",
        "                self.model.save(os.path.join(self.output_dir, f'best_model.h5'))\n",
        "                logging.info(f\"Saved best model with {self.metric_key}: {self.best} at epoch {epoch + 1}\")\n"
      ]
    },
    {
      "cell_type": "code",
      "execution_count": null,
      "metadata": {
        "colab": {
          "background_save": true
        },
        "id": "Jg2C99xMH50V"
      },
      "outputs": [],
      "source": [
        "class BestModelExporterLNN(tf.keras.callbacks.Callback):\n",
        "    \"\"\"Saves the best model based on specified metric (min or max).\"\"\"\n",
        "\n",
        "    def __init__(self, metric_key, mode, output_dir, use_h5=False):\n",
        "        super().__init__()\n",
        "        if mode not in ['min', 'max']:\n",
        "            raise ValueError(\"mode must be 'min' or 'max'\")\n",
        "        self.metric_key = metric_key\n",
        "        self.output_dir = output_dir\n",
        "        self.mode = mode\n",
        "        self.best = None\n",
        "        self.use_h5 = use_h5\n",
        "\n",
        "    def on_train_begin(self, logs=None):\n",
        "        # Check if output_dir exists and create if not\n",
        "        if not os.path.exists(self.output_dir):\n",
        "            os.makedirs(self.output_dir)\n",
        "\n",
        "        # Instead of reading metrics from a file, initialize best to a default value\n",
        "        if self.mode == 'min':\n",
        "            self.best = float('inf')  # Initialize with a large value for minimization\n",
        "        else:\n",
        "            self.best = float('-inf') # Initialize with a small value for maximization\n",
        "\n",
        "\n",
        "    def on_epoch_end(self, epoch, logs=None):\n",
        "        \"\"\"\n",
        "        Called at the end of each epoch. Checks if the current metric value is better than the best\n",
        "        seen so far and saves the model if it is.\n",
        "\n",
        "        Args:\n",
        "            epoch (int): The current epoch number.\n",
        "            logs (dict): Dictionary of logs.\n",
        "        \"\"\"\n",
        "        current_metric = logs.get(self.metric_key)\n",
        "\n",
        "        if current_metric is not None:  # Check if metric is available\n",
        "            if (self.mode == 'min' and current_metric < self.best) or \\\n",
        "               (self.mode == 'max' and current_metric > self.best):\n",
        "\n",
        "                self.best = current_metric\n",
        "                # Save the model\n",
        "                self.model.save(os.path.join(self.output_dir, f'best_model_lnn.h5'))\n",
        "                logging.info(f\"Saved best model with {self.metric_key}: {self.best} at epoch {epoch + 1}\")\n"
      ]
    },
    {
      "cell_type": "code",
      "execution_count": null,
      "metadata": {
        "colab": {
          "background_save": true
        },
        "id": "Vd759cK5c3ru"
      },
      "outputs": [],
      "source": [
        "class AUCWithMaskedClass(tf.keras.metrics.AUC):\n",
        "  \"\"\"Computes AUC while ignoring class with id equal to `-1`.\n",
        "\n",
        "  Assumes binary `{0, 1}` classes with a masked `{-1}` class.\n",
        "  \"\"\"\n",
        "\n",
        "  def __init__(self, with_logits = False, **kwargs):\n",
        "    super(AUCWithMaskedClass, self).__init__(**kwargs)\n",
        "    self.with_logits = with_logits\n",
        "\n",
        "  @tf.autograph.experimental.do_not_convert\n",
        "  def update_state(self,\n",
        "                   y_true,\n",
        "                   y_pred,\n",
        "                   sample_weight = None):\n",
        "    \"\"\"Accumulates metric statistics.\n",
        "\n",
        "    `y_true` and `y_pred` should have the same shape.\n",
        "\n",
        "    Args:\n",
        "      y_true: Ground truth values.\n",
        "      y_pred: Predicted values.\n",
        "      sample_weight: Input value is ignored. Parameter present to match\n",
        "        signature with parent class where mask `{-1}` is the sample weight.\n",
        "    Returns: `None`\n",
        "    \"\"\"\n",
        "    if self.with_logits:\n",
        "      y_pred = tf.math.sigmoid(y_pred)\n",
        "    mask = tf.cast(tf.not_equal(y_true, -1), tf.float32)\n",
        "    super(AUCWithMaskedClass, self).update_state(\n",
        "        y_true, y_pred, sample_weight=mask)"
      ]
    },
    {
      "cell_type": "code",
      "execution_count": null,
      "metadata": {
        "colab": {
          "background_save": true
        },
        "id": "P6mGo-7Udg81"
      },
      "outputs": [],
      "source": [
        "class PrecisionWithMaskedClass(tf.keras.metrics.Precision):\n",
        "  \"\"\"Computes precision while ignoring class with id equal to `-1`.\n",
        "\n",
        "  Assumes binary `{0, 1}` classes with a masked `{-1}` class.\n",
        "  \"\"\"\n",
        "\n",
        "  def __init__(self, with_logits = False, **kwargs):\n",
        "    super(PrecisionWithMaskedClass, self).__init__(**kwargs)\n",
        "    self.with_logits = with_logits\n",
        "\n",
        "  @tf.autograph.experimental.do_not_convert\n",
        "  def update_state(self,\n",
        "                   y_true,\n",
        "                   y_pred,\n",
        "                   sample_weight = None):\n",
        "    \"\"\"Accumulates metric statistics.\n",
        "\n",
        "    `y_true` and `y_pred` should have the same shape.\n",
        "\n",
        "    Args:\n",
        "      y_true: Ground truth values.\n",
        "      y_pred: Predicted values.\n",
        "      sample_weight: Input value is ignored. Parameter present to match\n",
        "        signature with parent class where mask `{-1}` is the sample weight.\n",
        "    Returns: `None`\n",
        "    \"\"\"\n",
        "    if self.with_logits:\n",
        "      y_pred = tf.math.sigmoid(y_pred)\n",
        "    mask = tf.cast(tf.not_equal(y_true, -1), tf.float32)\n",
        "    super(PrecisionWithMaskedClass, self).update_state(\n",
        "        y_true, y_pred, sample_weight=mask)\n"
      ]
    },
    {
      "cell_type": "code",
      "execution_count": null,
      "metadata": {
        "colab": {
          "background_save": true
        },
        "id": "YGeTW4d5djrI"
      },
      "outputs": [],
      "source": [
        "class RecallWithMaskedClass(tf.keras.metrics.Recall):\n",
        "  \"\"\"Computes recall while ignoring class with id equal to `-1`.\n",
        "\n",
        "  Assumes binary `{0, 1}` classes with a masked `{-1}` class.\n",
        "  \"\"\"\n",
        "\n",
        "  def __init__(self, with_logits = False, **kwargs):\n",
        "    super(RecallWithMaskedClass, self).__init__(**kwargs)\n",
        "    self.with_logits = with_logits\n",
        "\n",
        "  @tf.autograph.experimental.do_not_convert\n",
        "  def update_state(self,\n",
        "                   y_true,\n",
        "                   y_pred,\n",
        "                   sample_weight = None):\n",
        "    \"\"\"Accumulates metric statistics.\n",
        "\n",
        "    `y_true` and `y_pred` should have the same shape.\n",
        "\n",
        "    Args:\n",
        "      y_true: Ground truth values.\n",
        "      y_pred: Predicted values.\n",
        "      sample_weight: Input value is ignored. Parameter present to match\n",
        "        signature with parent class where mask `{-1}` is the sample weight.\n",
        "    Returns: `None`\n",
        "    \"\"\"\n",
        "    if self.with_logits:\n",
        "      y_pred = tf.math.sigmoid(y_pred)\n",
        "    mask = tf.cast(tf.not_equal(y_true, -1), tf.float32)\n",
        "    super(RecallWithMaskedClass, self).update_state(\n",
        "        y_true, y_pred, sample_weight=mask)"
      ]
    },
    {
      "cell_type": "markdown",
      "metadata": {
        "id": "ZRetCo6mBK0p"
      },
      "source": [
        "# **Data Loading**"
      ]
    },
    {
      "cell_type": "code",
      "execution_count": null,
      "metadata": {
        "colab": {
          "background_save": true,
          "base_uri": "https://localhost:8080/"
        },
        "id": "ayt8clUSY1Fa",
        "outputId": "656fe374-0f4e-4d9a-c276-6eeadc632905"
      },
      "outputs": [
        {
          "name": "stdout",
          "output_type": "stream",
          "text": [
            "Requirement already satisfied: kaggle in /usr/local/lib/python3.10/dist-packages (1.6.17)\n",
            "Requirement already satisfied: six>=1.10 in /usr/local/lib/python3.10/dist-packages (from kaggle) (1.16.0)\n",
            "Requirement already satisfied: certifi>=2023.7.22 in /usr/local/lib/python3.10/dist-packages (from kaggle) (2024.8.30)\n",
            "Requirement already satisfied: python-dateutil in /usr/local/lib/python3.10/dist-packages (from kaggle) (2.8.2)\n",
            "Requirement already satisfied: requests in /usr/local/lib/python3.10/dist-packages (from kaggle) (2.32.3)\n",
            "Requirement already satisfied: tqdm in /usr/local/lib/python3.10/dist-packages (from kaggle) (4.66.6)\n",
            "Requirement already satisfied: python-slugify in /usr/local/lib/python3.10/dist-packages (from kaggle) (8.0.4)\n",
            "Requirement already satisfied: urllib3 in /usr/local/lib/python3.10/dist-packages (from kaggle) (2.2.3)\n",
            "Requirement already satisfied: bleach in /usr/local/lib/python3.10/dist-packages (from kaggle) (6.2.0)\n",
            "Requirement already satisfied: webencodings in /usr/local/lib/python3.10/dist-packages (from bleach->kaggle) (0.5.1)\n",
            "Requirement already satisfied: text-unidecode>=1.3 in /usr/local/lib/python3.10/dist-packages (from python-slugify->kaggle) (1.3)\n",
            "Requirement already satisfied: charset-normalizer<4,>=2 in /usr/local/lib/python3.10/dist-packages (from requests->kaggle) (3.4.0)\n",
            "Requirement already satisfied: idna<4,>=2.5 in /usr/local/lib/python3.10/dist-packages (from requests->kaggle) (3.10)\n"
          ]
        }
      ],
      "source": [
        "!pip install kaggle"
      ]
    },
    {
      "cell_type": "code",
      "execution_count": null,
      "metadata": {
        "colab": {
          "base_uri": "https://localhost:8080/"
        },
        "id": "soYXCPreBOWu",
        "outputId": "9913f45b-3a79-4d23-8aaf-89538e80e14f"
      },
      "outputs": [
        {
          "name": "stdout",
          "output_type": "stream",
          "text": [
            "Drive already mounted at /content/drive; to attempt to forcibly remount, call drive.mount(\"/content/drive\", force_remount=True).\n"
          ]
        }
      ],
      "source": [
        "from google.colab import drive\n",
        "drive.mount('/content/drive')"
      ]
    },
    {
      "cell_type": "code",
      "execution_count": null,
      "metadata": {
        "id": "D80ggNXIY3aA"
      },
      "outputs": [],
      "source": []
    },
    {
      "cell_type": "code",
      "execution_count": null,
      "metadata": {
        "colab": {
          "base_uri": "https://localhost:8080/",
          "height": 1000
        },
        "id": "mnwwD6Z-BKS4",
        "outputId": "a6f51e76-2df8-45a8-82f1-5ea0d1e092ea"
      },
      "outputs": [
        {
          "name": "stdout",
          "output_type": "stream",
          "text": [
            "Requirement already satisfied: absl-py>=1.0.0 in /usr/local/lib/python3.10/dist-packages (from -r /content/drive/MyDrive/requirements.txt (line 1)) (1.4.0)\n",
            "Requirement already satisfied: astunparse>=1.6.3 in /usr/local/lib/python3.10/dist-packages (from -r /content/drive/MyDrive/requirements.txt (line 2)) (1.6.3)\n",
            "Requirement already satisfied: cachetools>=4.2.4 in /usr/local/lib/python3.10/dist-packages (from -r /content/drive/MyDrive/requirements.txt (line 3)) (5.5.0)\n",
            "Requirement already satisfied: certifi>=2021.10.8 in /usr/local/lib/python3.10/dist-packages (from -r /content/drive/MyDrive/requirements.txt (line 4)) (2024.8.30)\n",
            "Requirement already satisfied: charset-normalizer>=2.0.7 in /usr/local/lib/python3.10/dist-packages (from -r /content/drive/MyDrive/requirements.txt (line 5)) (3.4.0)\n",
            "Requirement already satisfied: earthengine-api>=0.1.288 in /usr/local/lib/python3.10/dist-packages (from -r /content/drive/MyDrive/requirements.txt (line 6)) (1.2.0)\n",
            "Requirement already satisfied: flatbuffers>=2.0 in /usr/local/lib/python3.10/dist-packages (from -r /content/drive/MyDrive/requirements.txt (line 7)) (24.3.25)\n",
            "Requirement already satisfied: future>=0.18.2 in /usr/local/lib/python3.10/dist-packages (from -r /content/drive/MyDrive/requirements.txt (line 8)) (1.0.0)\n",
            "Requirement already satisfied: gast>=0.4.0 in /usr/local/lib/python3.10/dist-packages (from -r /content/drive/MyDrive/requirements.txt (line 9)) (0.6.0)\n",
            "Requirement already satisfied: google-api-core>=1.31.4 in /usr/local/lib/python3.10/dist-packages (from -r /content/drive/MyDrive/requirements.txt (line 10)) (2.19.2)\n",
            "Requirement already satisfied: google-api-python-client>=1.12.8 in /usr/local/lib/python3.10/dist-packages (from -r /content/drive/MyDrive/requirements.txt (line 11)) (2.137.0)\n",
            "Requirement already satisfied: google-auth>=1.35.0 in /usr/local/lib/python3.10/dist-packages (from -r /content/drive/MyDrive/requirements.txt (line 12)) (2.27.0)\n",
            "Requirement already satisfied: google-auth-httplib2>=0.1.0 in /usr/local/lib/python3.10/dist-packages (from -r /content/drive/MyDrive/requirements.txt (line 13)) (0.2.0)\n",
            "Requirement already satisfied: google-auth-oauthlib>=0.4.6 in /usr/local/lib/python3.10/dist-packages (from -r /content/drive/MyDrive/requirements.txt (line 14)) (1.2.1)\n",
            "Requirement already satisfied: google-cloud-core>=2.2.1 in /usr/local/lib/python3.10/dist-packages (from -r /content/drive/MyDrive/requirements.txt (line 15)) (2.4.1)\n",
            "Requirement already satisfied: google-cloud-storage>=1.42.3 in /usr/local/lib/python3.10/dist-packages (from -r /content/drive/MyDrive/requirements.txt (line 16)) (2.8.0)\n",
            "Requirement already satisfied: google-crc32c>=1.3.0 in /usr/local/lib/python3.10/dist-packages (from -r /content/drive/MyDrive/requirements.txt (line 17)) (1.6.0)\n",
            "Requirement already satisfied: google-pasta>=0.2.0 in /usr/local/lib/python3.10/dist-packages (from -r /content/drive/MyDrive/requirements.txt (line 18)) (0.2.0)\n",
            "Requirement already satisfied: google-resumable-media>=2.1.0 in /usr/local/lib/python3.10/dist-packages (from -r /content/drive/MyDrive/requirements.txt (line 19)) (2.7.2)\n",
            "Requirement already satisfied: googleapis-common-protos>=1.53.0 in /usr/local/lib/python3.10/dist-packages (from -r /content/drive/MyDrive/requirements.txt (line 20)) (1.65.0)\n",
            "Requirement already satisfied: grpcio>=1.43.0 in /usr/local/lib/python3.10/dist-packages (from -r /content/drive/MyDrive/requirements.txt (line 21)) (1.64.1)\n",
            "Requirement already satisfied: h5py>=3.6.0 in /usr/local/lib/python3.10/dist-packages (from -r /content/drive/MyDrive/requirements.txt (line 22)) (3.12.1)\n",
            "Requirement already satisfied: httplib2>=0.20.2 in /usr/local/lib/python3.10/dist-packages (from -r /content/drive/MyDrive/requirements.txt (line 23)) (0.22.0)\n",
            "Collecting httplib2shim>=0.0.3 (from -r /content/drive/MyDrive/requirements.txt (line 24))\n",
            "  Downloading httplib2shim-0.0.3.tar.gz (17 kB)\n",
            "  Preparing metadata (setup.py) ... \u001b[?25l\u001b[?25hdone\n",
            "Requirement already satisfied: idna>=3.3 in /usr/local/lib/python3.10/dist-packages (from -r /content/drive/MyDrive/requirements.txt (line 25)) (3.10)\n",
            "Requirement already satisfied: importlib-metadata>=4.10.1 in /usr/local/lib/python3.10/dist-packages (from -r /content/drive/MyDrive/requirements.txt (line 26)) (8.5.0)\n",
            "Requirement already satisfied: keras>=2.7.0 in /usr/local/lib/python3.10/dist-packages (from -r /content/drive/MyDrive/requirements.txt (line 27)) (3.4.1)\n",
            "Collecting Keras-Preprocessing>=1.1.2 (from -r /content/drive/MyDrive/requirements.txt (line 28))\n",
            "  Downloading Keras_Preprocessing-1.1.2-py2.py3-none-any.whl.metadata (1.9 kB)\n",
            "Requirement already satisfied: libclang>=12.0.0 in /usr/local/lib/python3.10/dist-packages (from -r /content/drive/MyDrive/requirements.txt (line 29)) (18.1.1)\n",
            "Requirement already satisfied: Markdown>=3.3.6 in /usr/local/lib/python3.10/dist-packages (from -r /content/drive/MyDrive/requirements.txt (line 30)) (3.7)\n",
            "Requirement already satisfied: numpy>=1.21.4 in /usr/local/lib/python3.10/dist-packages (from -r /content/drive/MyDrive/requirements.txt (line 31)) (1.26.4)\n",
            "Requirement already satisfied: oauthlib>=3.1.1 in /usr/local/lib/python3.10/dist-packages (from -r /content/drive/MyDrive/requirements.txt (line 32)) (3.2.2)\n",
            "Requirement already satisfied: opt-einsum>=3.3.0 in /usr/local/lib/python3.10/dist-packages (from -r /content/drive/MyDrive/requirements.txt (line 33)) (3.4.0)\n",
            "Requirement already satisfied: packaging>=21.2 in /usr/local/lib/python3.10/dist-packages (from -r /content/drive/MyDrive/requirements.txt (line 34)) (24.1)\n",
            "Requirement already satisfied: protobuf>=3.19.1 in /usr/local/lib/python3.10/dist-packages (from -r /content/drive/MyDrive/requirements.txt (line 35)) (3.20.3)\n",
            "Requirement already satisfied: pyasn1>=0.4.8 in /usr/local/lib/python3.10/dist-packages (from -r /content/drive/MyDrive/requirements.txt (line 36)) (0.6.1)\n",
            "Requirement already satisfied: pyasn1-modules>=0.2.8 in /usr/local/lib/python3.10/dist-packages (from -r /content/drive/MyDrive/requirements.txt (line 37)) (0.4.1)\n",
            "Requirement already satisfied: pyparsing>=2.4.7 in /usr/local/lib/python3.10/dist-packages (from -r /content/drive/MyDrive/requirements.txt (line 38)) (3.2.0)\n",
            "Requirement already satisfied: pytz>=2021.3 in /usr/local/lib/python3.10/dist-packages (from -r /content/drive/MyDrive/requirements.txt (line 39)) (2024.2)\n",
            "Requirement already satisfied: requests>=2.26.0 in /usr/local/lib/python3.10/dist-packages (from -r /content/drive/MyDrive/requirements.txt (line 40)) (2.32.3)\n",
            "Requirement already satisfied: requests-oauthlib>=1.3.0 in /usr/local/lib/python3.10/dist-packages (from -r /content/drive/MyDrive/requirements.txt (line 41)) (1.3.1)\n",
            "Requirement already satisfied: rsa>=4.7.2 in /usr/local/lib/python3.10/dist-packages (from -r /content/drive/MyDrive/requirements.txt (line 42)) (4.9)\n",
            "Requirement already satisfied: six>=1.16.0 in /usr/local/lib/python3.10/dist-packages (from -r /content/drive/MyDrive/requirements.txt (line 43)) (1.16.0)\n",
            "Requirement already satisfied: tensorboard>=2.7.0 in /usr/local/lib/python3.10/dist-packages (from -r /content/drive/MyDrive/requirements.txt (line 44)) (2.17.0)\n",
            "Requirement already satisfied: tensorboard-data-server>=0.6.1 in /usr/local/lib/python3.10/dist-packages (from -r /content/drive/MyDrive/requirements.txt (line 45)) (0.7.2)\n",
            "Collecting tensorboard-plugin-wit>=1.8.1 (from -r /content/drive/MyDrive/requirements.txt (line 46))\n",
            "  Downloading tensorboard_plugin_wit-1.8.1-py3-none-any.whl.metadata (873 bytes)\n",
            "Collecting tensorflow==2.15.1 (from -r /content/drive/MyDrive/requirements.txt (line 47))\n",
            "  Downloading tensorflow-2.15.1-cp310-cp310-manylinux_2_17_x86_64.manylinux2014_x86_64.whl.metadata (4.2 kB)\n",
            "Collecting tensorflow-estimator>=2.7.0 (from -r /content/drive/MyDrive/requirements.txt (line 48))\n",
            "  Downloading tensorflow_estimator-2.15.0-py2.py3-none-any.whl.metadata (1.3 kB)\n",
            "Requirement already satisfied: tensorflow-io-gcs-filesystem>=0.23.1 in /usr/local/lib/python3.10/dist-packages (from -r /content/drive/MyDrive/requirements.txt (line 49)) (0.37.1)\n",
            "Requirement already satisfied: termcolor>=1.1.0 in /usr/local/lib/python3.10/dist-packages (from -r /content/drive/MyDrive/requirements.txt (line 50)) (2.5.0)\n",
            "Requirement already satisfied: typing-extensions>=4.0.1 in /usr/local/lib/python3.10/dist-packages (from -r /content/drive/MyDrive/requirements.txt (line 51)) (4.12.2)\n",
            "Requirement already satisfied: uritemplate>=3.0.1 in /usr/local/lib/python3.10/dist-packages (from -r /content/drive/MyDrive/requirements.txt (line 52)) (4.1.1)\n",
            "Requirement already satisfied: urllib3>=1.26.7 in /usr/local/lib/python3.10/dist-packages (from -r /content/drive/MyDrive/requirements.txt (line 53)) (2.2.3)\n",
            "Requirement already satisfied: Werkzeug>=2.0.2 in /usr/local/lib/python3.10/dist-packages (from -r /content/drive/MyDrive/requirements.txt (line 54)) (3.0.6)\n",
            "Requirement already satisfied: wrapt>=1.13.3 in /usr/local/lib/python3.10/dist-packages (from -r /content/drive/MyDrive/requirements.txt (line 55)) (1.16.0)\n",
            "Requirement already satisfied: zipp>=3.7.0 in /usr/local/lib/python3.10/dist-packages (from -r /content/drive/MyDrive/requirements.txt (line 56)) (3.20.2)\n",
            "Collecting ml-dtypes~=0.3.1 (from tensorflow==2.15.1->-r /content/drive/MyDrive/requirements.txt (line 47))\n",
            "  Downloading ml_dtypes-0.3.2-cp310-cp310-manylinux_2_17_x86_64.manylinux2014_x86_64.whl.metadata (20 kB)\n",
            "Requirement already satisfied: setuptools in /usr/local/lib/python3.10/dist-packages (from tensorflow==2.15.1->-r /content/drive/MyDrive/requirements.txt (line 47)) (75.1.0)\n",
            "Collecting wrapt>=1.13.3 (from -r /content/drive/MyDrive/requirements.txt (line 55))\n",
            "  Downloading wrapt-1.14.1-cp310-cp310-manylinux_2_5_x86_64.manylinux1_x86_64.manylinux_2_17_x86_64.manylinux2014_x86_64.whl.metadata (6.7 kB)\n",
            "Collecting tensorboard>=2.7.0 (from -r /content/drive/MyDrive/requirements.txt (line 44))\n",
            "  Downloading tensorboard-2.15.2-py3-none-any.whl.metadata (1.7 kB)\n",
            "Collecting keras>=2.7.0 (from -r /content/drive/MyDrive/requirements.txt (line 27))\n",
            "  Downloading keras-2.15.0-py3-none-any.whl.metadata (2.4 kB)\n",
            "Requirement already satisfied: wheel<1.0,>=0.23.0 in /usr/local/lib/python3.10/dist-packages (from astunparse>=1.6.3->-r /content/drive/MyDrive/requirements.txt (line 2)) (0.44.0)\n",
            "Requirement already satisfied: proto-plus<2.0.0dev,>=1.22.3 in /usr/local/lib/python3.10/dist-packages (from google-api-core>=1.31.4->-r /content/drive/MyDrive/requirements.txt (line 10)) (1.25.0)\n",
            "Requirement already satisfied: MarkupSafe>=2.1.1 in /usr/local/lib/python3.10/dist-packages (from Werkzeug>=2.0.2->-r /content/drive/MyDrive/requirements.txt (line 54)) (3.0.2)\n",
            "Downloading tensorflow-2.15.1-cp310-cp310-manylinux_2_17_x86_64.manylinux2014_x86_64.whl (475.2 MB)\n",
            "\u001b[2K   \u001b[90m━━━━━━━━━━━━━━━━━━━━━━━━━━━━━━━━━━━━━━━━\u001b[0m \u001b[32m475.2/475.2 MB\u001b[0m \u001b[31m2.3 MB/s\u001b[0m eta \u001b[36m0:00:00\u001b[0m\n",
            "\u001b[?25hDownloading keras-2.15.0-py3-none-any.whl (1.7 MB)\n",
            "\u001b[2K   \u001b[90m━━━━━━━━━━━━━━━━━━━━━━━━━━━━━━━━━━━━━━━━\u001b[0m \u001b[32m1.7/1.7 MB\u001b[0m \u001b[31m67.9 MB/s\u001b[0m eta \u001b[36m0:00:00\u001b[0m\n",
            "\u001b[?25hDownloading Keras_Preprocessing-1.1.2-py2.py3-none-any.whl (42 kB)\n",
            "\u001b[2K   \u001b[90m━━━━━━━━━━━━━━━━━━━━━━━━━━━━━━━━━━━━━━━━\u001b[0m \u001b[32m42.6/42.6 kB\u001b[0m \u001b[31m3.6 MB/s\u001b[0m eta \u001b[36m0:00:00\u001b[0m\n",
            "\u001b[?25hDownloading tensorboard-2.15.2-py3-none-any.whl (5.5 MB)\n",
            "\u001b[2K   \u001b[90m━━━━━━━━━━━━━━━━━━━━━━━━━━━━━━━━━━━━━━━━\u001b[0m \u001b[32m5.5/5.5 MB\u001b[0m \u001b[31m98.7 MB/s\u001b[0m eta \u001b[36m0:00:00\u001b[0m\n",
            "\u001b[?25hDownloading tensorboard_plugin_wit-1.8.1-py3-none-any.whl (781 kB)\n",
            "\u001b[2K   \u001b[90m━━━━━━━━━━━━━━━━━━━━━━━━━━━━━━━━━━━━━━━━\u001b[0m \u001b[32m781.3/781.3 kB\u001b[0m \u001b[31m49.2 MB/s\u001b[0m eta \u001b[36m0:00:00\u001b[0m\n",
            "\u001b[?25hDownloading tensorflow_estimator-2.15.0-py2.py3-none-any.whl (441 kB)\n",
            "\u001b[2K   \u001b[90m━━━━━━━━━━━━━━━━━━━━━━━━━━━━━━━━━━━━━━━━\u001b[0m \u001b[32m442.0/442.0 kB\u001b[0m \u001b[31m34.7 MB/s\u001b[0m eta \u001b[36m0:00:00\u001b[0m\n",
            "\u001b[?25hDownloading wrapt-1.14.1-cp310-cp310-manylinux_2_5_x86_64.manylinux1_x86_64.manylinux_2_17_x86_64.manylinux2014_x86_64.whl (77 kB)\n",
            "\u001b[2K   \u001b[90m━━━━━━━━━━━━━━━━━━━━━━━━━━━━━━━━━━━━━━━━\u001b[0m \u001b[32m77.9/77.9 kB\u001b[0m \u001b[31m7.3 MB/s\u001b[0m eta \u001b[36m0:00:00\u001b[0m\n",
            "\u001b[?25hDownloading ml_dtypes-0.3.2-cp310-cp310-manylinux_2_17_x86_64.manylinux2014_x86_64.whl (2.2 MB)\n",
            "\u001b[2K   \u001b[90m━━━━━━━━━━━━━━━━━━━━━━━━━━━━━━━━━━━━━━━━\u001b[0m \u001b[32m2.2/2.2 MB\u001b[0m \u001b[31m71.7 MB/s\u001b[0m eta \u001b[36m0:00:00\u001b[0m\n",
            "\u001b[?25hBuilding wheels for collected packages: httplib2shim\n",
            "  Building wheel for httplib2shim (setup.py) ... \u001b[?25l\u001b[?25hdone\n",
            "  Created wheel for httplib2shim: filename=httplib2shim-0.0.3-py2.py3-none-any.whl size=18041 sha256=7e8523f278831043d8d1c6267bc90b33323880f6d5996eba88a87697887dd50a\n",
            "  Stored in directory: /root/.cache/pip/wheels/88/e5/dd/0096092515d7a3711c1bbc6c2ea1933a1fe1a62da93a6072a0\n",
            "Successfully built httplib2shim\n",
            "Installing collected packages: tensorboard-plugin-wit, wrapt, tensorflow-estimator, ml-dtypes, Keras-Preprocessing, keras, httplib2shim, tensorboard, tensorflow\n",
            "  Attempting uninstall: wrapt\n",
            "    Found existing installation: wrapt 1.16.0\n",
            "    Uninstalling wrapt-1.16.0:\n",
            "      Successfully uninstalled wrapt-1.16.0\n",
            "  Attempting uninstall: ml-dtypes\n",
            "    Found existing installation: ml-dtypes 0.4.1\n",
            "    Uninstalling ml-dtypes-0.4.1:\n",
            "      Successfully uninstalled ml-dtypes-0.4.1\n",
            "  Attempting uninstall: keras\n",
            "    Found existing installation: keras 3.4.1\n",
            "    Uninstalling keras-3.4.1:\n",
            "      Successfully uninstalled keras-3.4.1\n",
            "  Attempting uninstall: tensorboard\n",
            "    Found existing installation: tensorboard 2.17.0\n",
            "    Uninstalling tensorboard-2.17.0:\n",
            "      Successfully uninstalled tensorboard-2.17.0\n",
            "  Attempting uninstall: tensorflow\n",
            "    Found existing installation: tensorflow 2.17.0\n",
            "    Uninstalling tensorflow-2.17.0:\n",
            "      Successfully uninstalled tensorflow-2.17.0\n",
            "\u001b[31mERROR: pip's dependency resolver does not currently take into account all the packages that are installed. This behaviour is the source of the following dependency conflicts.\n",
            "tf-keras 2.17.0 requires tensorflow<2.18,>=2.17, but you have tensorflow 2.15.1 which is incompatible.\u001b[0m\u001b[31m\n",
            "\u001b[0mSuccessfully installed Keras-Preprocessing-1.1.2 httplib2shim-0.0.3 keras-2.15.0 ml-dtypes-0.3.2 tensorboard-2.15.2 tensorboard-plugin-wit-1.8.1 tensorflow-2.15.1 tensorflow-estimator-2.15.0 wrapt-1.14.1\n"
          ]
        },
        {
          "data": {
            "application/vnd.colab-display-data+json": {
              "id": "91993e5a0aff42b0a25100e2cced6c47",
              "pip_warning": {
                "packages": [
                  "keras",
                  "ml_dtypes",
                  "tensorflow",
                  "wrapt"
                ]
              }
            }
          },
          "metadata": {},
          "output_type": "display_data"
        }
      ],
      "source": [
        "#install required libraries\n",
        "!pip install -r '/content/drive/MyDrive/requirements.txt'"
      ]
    },
    {
      "cell_type": "code",
      "execution_count": null,
      "metadata": {
        "id": "utMVNFmTBZIN"
      },
      "outputs": [],
      "source": [
        "train_file_pattern = '/content/drive/MyDrive/wildfirex_datset/train_dataset/next_day_wildfire_spread_train*'\n",
        "val_file_pattern = '/content/drive/MyDrive/wildfirex_datset/eval_dataset/next_day_wildfire_spread_eval*'\n",
        "test_file_pattern = '/content/drive/MyDrive/wildfirex_datset/test_dataset/next_day_wildfire_spread_test*'"
      ]
    },
    {
      "cell_type": "code",
      "execution_count": null,
      "metadata": {
        "id": "k9TarQedBdt0"
      },
      "outputs": [],
      "source": [
        "TITLES = [\n",
        "  'Elevation',\n",
        "  'Wind\\ndirection',\n",
        "  'Wind\\nvelocity',\n",
        "  'Min\\ntemp',\n",
        "  'Max\\ntemp',\n",
        "  'Humidity',\n",
        "  'Precip',\n",
        "  'Drought',\n",
        "  'Vegetation',\n",
        "  'Population\\ndensity',\n",
        "  'Energy\\nrelease\\ncomponent',\n",
        "  'Previous\\nfire\\nmask',\n",
        "  'Fire\\nmask'\n",
        "]"
      ]
    },
    {
      "cell_type": "code",
      "execution_count": null,
      "metadata": {
        "id": "aqmF-px3BkOC"
      },
      "outputs": [],
      "source": [
        "# Constants for the data reader\n",
        "\n",
        "INPUT_FEATURES = ['elevation', 'th', 'vs',  'tmmn', 'tmmx', 'sph',\n",
        "                  'pr', 'pdsi', 'NDVI', 'population', 'erc', 'PrevFireMask']\n",
        "\n",
        "OUTPUT_FEATURES = ['FireMask']\n",
        "\n",
        "# Data statistics\n",
        "# For each variable, the statistics are ordered in the form:\n",
        "# (min_clip, max_clip, mean, std)\n",
        "# I recalculated the statistics based on the training set only (uncropped)\n",
        "DATA_STATS = {\n",
        "    # 0.1 percentile, 99.9 percentile\n",
        "    # Elevation\n",
        "    'elevation' : (0.0, 3536.0, 896.5714, 842.6101),\n",
        "    # Drought index - this claimed to be pressure, but it's Palmer Drought Severity Index\n",
        "    # https://en.wikipedia.org/wiki/Palmer_drought_index\n",
        "    # 0.1 percentile, 99.9 percentile\n",
        "    'pdsi' : (-6.0559, 6.7432, -0.7729, 2.4407),\n",
        "    # Normalized Difference Vegetation Index https://gisgeography.com/ndvi-normalized-difference-vegetation-index/\n",
        "    'NDVI' : (-3826.0, 9282.0, 5350.6865, 2185.2192),\n",
        "    # Precipitation in mm.\n",
        "    # Negative values make no sense, so min is set to 0.\n",
        "    # 0., 99.9 percentile\n",
        "    'pr': (0.0, 19.2422, 0.3234289, 1.5336641),\n",
        "    # Specific humidity ranges from 0 to 100%.\n",
        "    'sph': (0., 1., 0.0065263123, 0.003735537), #max changed to 1\n",
        "    # Wind direction - degrees clockwise from north.\n",
        "    # Thus min set to 0 and max set to 360.\n",
        "    'th' : (0.0, 360.0, 146.6468, 3435.0725),\n",
        "    # Min/max temperature in Kelvin.\n",
        "    # -20 degree C, 99.9 percentile\n",
        "    'tmmn' : (253.15, 299.6313, 281.85196, 18.4972), #min changed\n",
        "    # -20 degree C, 99.9 percentile\n",
        "    'tmmx' : (253.15, 317.3869, 297.71643, 19.4581), #min changed\n",
        "    # Wind speed.\n",
        "    # Negative values do not make sense, given there is a wind direction.\n",
        "    # 0., 99.9 percentile\n",
        "    'vs' : (0.0, 9.7368, 3.6278, 1.3092),\n",
        "    # NFDRS fire danger index energy release component expressed in BTU's per\n",
        "    # square foot.\n",
        "    # Negative values do not make sense. Thus min set to zero.\n",
        "    # 0., 99.9 percentile\n",
        "    'erc' : (0.0, 109.9254, 53.4690, 25.0980),\n",
        "    # Population\n",
        "    # min, 99.9 percentile\n",
        "    'population' : (0.0, 2935.7548828125, 30.4603, 214.20015),\n",
        "    # We don't want to normalize the FireMasks.\n",
        "    'PrevFireMask': (-1., 1., 0., 1.),\n",
        "    'FireMask': (-1., 1., 0., 1.)\n",
        "}"
      ]
    },
    {
      "cell_type": "code",
      "execution_count": null,
      "metadata": {
        "id": "n5keWxv_BmuR"
      },
      "outputs": [],
      "source": [
        "\"\"\"Library of common functions used in deep learning neural networks.\n",
        "\"\"\"\n",
        "def random_crop_input_and_output_images(\n",
        "    input_img: tf.Tensor,\n",
        "    output_img: tf.Tensor,\n",
        "    sample_size: int,\n",
        "    num_in_channels: int,\n",
        "    num_out_channels: int,\n",
        ") -> Tuple[tf.Tensor, tf.Tensor]:\n",
        "  \"\"\"Randomly axis-align crop input and output image tensors.\n",
        "\n",
        "  Args:\n",
        "    input_img: Tensor with dimensions HWC.\n",
        "    output_img: Tensor with dimensions HWC.\n",
        "    sample_size: Side length (square) to crop to.\n",
        "    num_in_channels: Number of channels in `input_img`.\n",
        "    num_out_channels: Number of channels in `output_img`.\n",
        "  Returns:\n",
        "    input_img: Tensor with dimensions HWC.\n",
        "    output_img: Tensor with dimensions HWC.\n",
        "  \"\"\"\n",
        "  combined = tf.concat([input_img, output_img], axis=2)\n",
        "  combined = tf.image.random_crop(\n",
        "      combined,\n",
        "      [sample_size, sample_size, num_in_channels + num_out_channels])\n",
        "  input_img = combined[:, :, 0:num_in_channels]\n",
        "  output_img = combined[:, :, -num_out_channels:]\n",
        "  return input_img, output_img\n",
        "\n",
        "\n",
        "def center_crop_input_and_output_images(\n",
        "    input_img: tf.Tensor,\n",
        "    output_img: tf.Tensor,\n",
        "    sample_size: int,\n",
        ") -> Tuple[tf.Tensor, tf.Tensor]:\n",
        "  \"\"\"Calls `tf.image.central_crop` on input and output image tensors.\n",
        "\n",
        "  Args:\n",
        "    input_img: Tensor with dimensions HWC.\n",
        "    output_img: Tensor with dimensions HWC.\n",
        "    sample_size: Side length (square) to crop to.\n",
        "  Returns:\n",
        "    input_img: Tensor with dimensions HWC.\n",
        "    output_img: Tensor with dimensions HWC.\n",
        "  \"\"\"\n",
        "  central_fraction = sample_size / input_img.shape[0]\n",
        "  input_img = tf.image.central_crop(input_img, central_fraction)\n",
        "  output_img = tf.image.central_crop(output_img, central_fraction)\n",
        "  return input_img, output_img\n"
      ]
    },
    {
      "cell_type": "code",
      "execution_count": null,
      "metadata": {
        "id": "8B5F8qO3BpFG"
      },
      "outputs": [],
      "source": [
        "\"\"\"Dataset reader for Earth Engine data.\"\"\"\n",
        "\n",
        "def _get_base_key(key: Text) -> Text:\n",
        "  \"\"\"Extracts the base key from the provided key.\n",
        "\n",
        "  Earth Engine exports TFRecords containing each data variable with its\n",
        "  corresponding variable name. In the case of time sequences, the name of the\n",
        "  data variable is of the form 'variable_1', 'variable_2', ..., 'variable_n',\n",
        "  where 'variable' is the name of the variable, and n the number of elements\n",
        "  in the time sequence. Extracting the base key ensures that each step of the\n",
        "  time sequence goes through the same normalization steps.\n",
        "  The base key obeys the following naming pattern: '[a-zA-Z]+'\n",
        "  For instance, for an input key 'variable_1', this function returns 'variable'.\n",
        "  For an input key 'variable', this function simply returns 'variable'.\n",
        "\n",
        "  Args:\n",
        "    key: Input key.\n",
        "\n",
        "  Returns:\n",
        "    The corresponding base key.\n",
        "\n",
        "  Raises:\n",
        "    ValueError when `key` does not match the expected pattern.\n",
        "  \"\"\"\n",
        "  match = re.match(r'([a-zA-Z]+)', key)\n",
        "  if match:\n",
        "    return match.group(1)\n",
        "  raise ValueError(f'The provided key does not match the expected pattern: {key}')\n",
        "\n",
        "\n",
        "def _clip_and_rescale(inputs: tf.Tensor, key: Text) -> tf.Tensor:\n",
        "  \"\"\"Clips and rescales inputs with the stats corresponding to `key`.\n",
        "\n",
        "  Args:\n",
        "    inputs: Inputs to clip and rescale.\n",
        "    key: Key describing the inputs.\n",
        "\n",
        "  Returns:\n",
        "    Clipped and rescaled input.\n",
        "\n",
        "  Raises:\n",
        "    ValueError if there are no data statistics available for `key`.\n",
        "  \"\"\"\n",
        "  base_key = _get_base_key(key)\n",
        "  if base_key not in DATA_STATS:\n",
        "    raise ValueError(\n",
        "        'No data statistics available for the requested key: {}.'.format(key))\n",
        "  min_val, max_val, _, _ = DATA_STATS[base_key]\n",
        "  inputs = tf.clip_by_value(inputs, min_val, max_val)\n",
        "  return tf.math.divide_no_nan((inputs - min_val), (max_val - min_val))\n",
        "\n",
        "\n",
        "def _clip_and_normalize(inputs: tf.Tensor, key: Text) -> tf.Tensor:\n",
        "  \"\"\"Clips and normalizes inputs with the stats corresponding to `key`.\n",
        "\n",
        "  Args:\n",
        "    inputs: Inputs to clip and normalize.\n",
        "    key: Key describing the inputs.\n",
        "\n",
        "  Returns:\n",
        "    Clipped and normalized input.\n",
        "\n",
        "  Raises:\n",
        "    ValueError if there are no data statistics available for `key`.\n",
        "  \"\"\"\n",
        "  base_key = _get_base_key(key)\n",
        "  if base_key not in DATA_STATS:\n",
        "    raise ValueError(\n",
        "        'No data statistics available for the requested key: {}.'.format(key))\n",
        "  min_val, max_val, mean, std = DATA_STATS[base_key]\n",
        "  inputs = tf.clip_by_value(inputs, min_val, max_val)\n",
        "  inputs = inputs - mean\n",
        "  return tf.math.divide_no_nan(inputs, std)\n",
        "\n",
        "def _get_features_dict(\n",
        "    sample_size: int,\n",
        "    features: List[Text],\n",
        ") -> Dict[Text, tf.io.FixedLenFeature]:\n",
        "  \"\"\"Creates a features dictionary for TensorFlow IO.\n",
        "\n",
        "  Args:\n",
        "    sample_size: Size of the input tiles (square).\n",
        "    features: List of feature names.\n",
        "\n",
        "  Returns:\n",
        "    A features dictionary for TensorFlow IO.\n",
        "  \"\"\"\n",
        "  sample_shape = [sample_size, sample_size]\n",
        "  features = set(features)\n",
        "  columns = [\n",
        "      tf.io.FixedLenFeature(shape=sample_shape, dtype=tf.float32)\n",
        "      for _ in features\n",
        "  ]\n",
        "  return dict(zip(features, columns))\n",
        "\n",
        "\n",
        "def _parse_fn(\n",
        "    example_proto: tf.train.Example, data_size: int, sample_size: int,\n",
        "    num_in_channels: int, clip_and_normalize: bool,\n",
        "    clip_and_rescale: bool, random_crop: bool, center_crop: bool,\n",
        ") -> Tuple[tf.Tensor, tf.Tensor]:\n",
        "  \"\"\"Reads a serialized example.\n",
        "\n",
        "  Args:\n",
        "    example_proto: A TensorFlow example protobuf.\n",
        "    data_size: Size of tiles (square) as read from input files.\n",
        "    sample_size: Size the tiles (square) when input into the model.\n",
        "    num_in_channels: Number of input channels.\n",
        "    clip_and_normalize: True if the data should be clipped and normalized.\n",
        "    clip_and_rescale: True if the data should be clipped and rescaled.\n",
        "    random_crop: True if the data should be randomly cropped.\n",
        "    center_crop: True if the data should be cropped in the center.\n",
        "\n",
        "  Returns:\n",
        "    (input_img, output_img) tuple of inputs and outputs to the ML model.\n",
        "  \"\"\"\n",
        "  if (random_crop and center_crop):\n",
        "    raise ValueError('Cannot have both random_crop and center_crop be True')\n",
        "  input_features, output_features = INPUT_FEATURES, OUTPUT_FEATURES\n",
        "  feature_names = input_features + output_features\n",
        "  features_dict = _get_features_dict(data_size, feature_names)\n",
        "  features = tf.io.parse_single_example(example_proto, features_dict)\n",
        "\n",
        "  if clip_and_normalize:\n",
        "    inputs_list = [\n",
        "        _clip_and_normalize(features.get(key), key) for key in input_features\n",
        "    ]\n",
        "  elif clip_and_rescale:\n",
        "    inputs_list = [\n",
        "        _clip_and_rescale(features.get(key), key) for key in input_features\n",
        "    ]\n",
        "  else:\n",
        "    inputs_list = [features.get(key) for key in input_features]\n",
        "\n",
        "  inputs_stacked = tf.stack(inputs_list, axis=0)\n",
        "  input_img = tf.transpose(inputs_stacked, [1, 2, 0])\n",
        "\n",
        "  outputs_list = [features.get(key) for key in output_features]\n",
        "  assert outputs_list, 'outputs_list should not be empty'\n",
        "  outputs_stacked = tf.stack(outputs_list, axis=0)\n",
        "\n",
        "  outputs_stacked_shape = outputs_stacked.get_shape().as_list()\n",
        "  assert len(outputs_stacked.shape) == 3, ('outputs_stacked should be rank 3'\n",
        "                                            'but dimensions of outputs_stacked'\n",
        "                                            f' are {outputs_stacked_shape}')\n",
        "  output_img = tf.transpose(outputs_stacked, [1, 2, 0])\n",
        "\n",
        "  if random_crop:\n",
        "    input_img, output_img = random_crop_input_and_output_images(\n",
        "        input_img, output_img, sample_size, num_in_channels, 1)\n",
        "  if center_crop:\n",
        "    input_img, output_img = center_crop_input_and_output_images(\n",
        "        input_img, output_img, sample_size)\n",
        "  return input_img, output_img\n",
        "\n",
        "\n",
        "def get_dataset(file_pattern: Text, data_size: int, sample_size: int,\n",
        "                batch_size: int, num_in_channels: int, compression_type: Text,\n",
        "                clip_and_normalize: bool, clip_and_rescale: bool,\n",
        "                random_crop: bool, center_crop: bool) -> tf.data.Dataset:\n",
        "  \"\"\"Gets the dataset from the file pattern.\n",
        "\n",
        "  Args:\n",
        "    file_pattern: Input file pattern.\n",
        "    data_size: Size of tiles (square) as read from input files.\n",
        "    sample_size: Size the tiles (square) when input into the model.\n",
        "    batch_size: Batch size.\n",
        "    num_in_channels: Number of input channels.\n",
        "    compression_type: Type of compression used for the input files.\n",
        "    clip_and_normalize: True if the data should be clipped and normalized, False\n",
        "      otherwise.\n",
        "    clip_and_rescale: True if the data should be clipped and rescaled, False\n",
        "      otherwise.\n",
        "    random_crop: True if the data should be randomly cropped.\n",
        "    center_crop: True if the data shoulde be cropped in the center.\n",
        "\n",
        "  Returns:\n",
        "    A TensorFlow dataset loaded from the input file pattern, with features\n",
        "    described in the constants, and with the shapes determined from the input\n",
        "    parameters to this function.\n",
        "  \"\"\"\n",
        "  if (clip_and_normalize and clip_and_rescale):\n",
        "    raise ValueError('Cannot have both normalize and rescale.')\n",
        "  dataset = tf.data.Dataset.list_files(file_pattern)\n",
        "  dataset = dataset.interleave(\n",
        "      lambda x: tf.data.TFRecordDataset(x, compression_type=compression_type),\n",
        "      num_parallel_calls=tf.data.experimental.AUTOTUNE)\n",
        "  dataset = dataset.prefetch(buffer_size=tf.data.experimental.AUTOTUNE)\n",
        "  dataset = dataset.map(\n",
        "      lambda x: _parse_fn(  # pylint: disable=g-long-lambda\n",
        "          x, data_size, sample_size, num_in_channels, clip_and_normalize,\n",
        "          clip_and_rescale, random_crop, center_crop),\n",
        "      num_parallel_calls=tf.data.experimental.AUTOTUNE)\n",
        "  dataset = dataset.batch(batch_size)\n",
        "  dataset = dataset.prefetch(buffer_size=tf.data.experimental.AUTOTUNE)\n",
        "  return dataset"
      ]
    },
    {
      "cell_type": "code",
      "execution_count": null,
      "metadata": {
        "id": "YI5VWukxBAB3"
      },
      "outputs": [],
      "source": [
        "\n",
        "\n"
      ]
    },
    {
      "cell_type": "code",
      "execution_count": null,
      "metadata": {
        "id": "mlzC1ufgdI3e"
      },
      "outputs": [],
      "source": [
        "def get_metrics(precs, recs):\n",
        "  f1s = np.nan_to_num(2*np.nan_to_num(precs)*recs/(np.nan_to_num(precs) + recs))\n",
        "  return precs[np.argmax(f1s)], recs[np.argmax(f1s)]"
      ]
    },
    {
      "cell_type": "code",
      "execution_count": null,
      "metadata": {
        "id": "uymw7q2XBpzC"
      },
      "outputs": [],
      "source": [
        "BATCH_SIZE=32\n",
        "train_dataset = get_dataset(\n",
        "      train_file_pattern,\n",
        "      data_size=64,\n",
        "      sample_size=32,\n",
        "      batch_size=BATCH_SIZE,\n",
        "      num_in_channels=12,\n",
        "      compression_type=None,\n",
        "      clip_and_normalize=True,\n",
        "      clip_and_rescale=False,\n",
        "      random_crop=True,\n",
        "      center_crop=False)\n"
      ]
    },
    {
      "cell_type": "code",
      "execution_count": null,
      "metadata": {
        "id": "7ADTTDtoBtiz"
      },
      "outputs": [],
      "source": [
        "val_dataset = get_dataset(\n",
        "      val_file_pattern,\n",
        "      data_size=64,\n",
        "      sample_size=32,\n",
        "      batch_size=32,\n",
        "      num_in_channels=12,\n",
        "      compression_type=None,\n",
        "      clip_and_normalize=True,\n",
        "      clip_and_rescale=False,\n",
        "      random_crop=True,\n",
        "      center_crop=False)"
      ]
    },
    {
      "cell_type": "code",
      "execution_count": null,
      "metadata": {
        "id": "audIIoldBvvl"
      },
      "outputs": [],
      "source": [
        "test_dataset = get_dataset(\n",
        "      val_file_pattern,\n",
        "      data_size=64,\n",
        "      sample_size=32,\n",
        "      batch_size=32,\n",
        "      num_in_channels=12,\n",
        "      compression_type=None,\n",
        "      clip_and_normalize=True,\n",
        "      clip_and_rescale=False,\n",
        "      random_crop=True,\n",
        "      center_crop=False)\n"
      ]
    },
    {
      "cell_type": "code",
      "execution_count": null,
      "metadata": {
        "id": "VhBV4MEVByqq"
      },
      "outputs": [],
      "source": [
        "train_inputs, train_labels = next(iter(train_dataset))\n",
        "val_inputs, val_labels = next(iter(val_dataset))\n",
        "test_inputs, test_labels = next(iter(test_dataset))"
      ]
    },
    {
      "cell_type": "code",
      "execution_count": null,
      "metadata": {
        "id": "s6Cz0wgMt0yJ"
      },
      "outputs": [],
      "source": [
        "test_inputs, test_labels = next(iter(test_dataset))"
      ]
    },
    {
      "cell_type": "code",
      "execution_count": null,
      "metadata": {
        "id": "2lm0cUjY-r2X"
      },
      "outputs": [],
      "source": [
        "def plot_samples_from_dataset(dataset: tf.data.Dataset, n_rows: int):\n",
        "    \"\"\"\n",
        "    Plot 'n_rows' rows of samples from dataset.\n",
        "\n",
        "    Args:\n",
        "        dataset (Dataset): Dataset from which to plot samples.\n",
        "        n_rows (int): Number of rows to plot.\n",
        "    \"\"\"\n",
        "    global TITLES\n",
        "\n",
        "    # Get batch\n",
        "    inputs, labels = None, None\n",
        "    for elem in dataset:\n",
        "        inputs, labels = elem\n",
        "        break\n",
        "\n",
        "    fig = plt.figure(figsize=(15,6.5))\n",
        "\n",
        "    # Variables for controllong the color map for the fire masks\n",
        "    CMAP = colors.ListedColormap(['black', 'silver', 'orangered'])\n",
        "    BOUNDS = [-1, -0.1, 0.001, 1]\n",
        "    NORM = colors.BoundaryNorm(BOUNDS, CMAP.N)\n",
        "    # Number of data variables\n",
        "    n_features = 12\n",
        "    for i in range(n_rows):\n",
        "        for j in range(n_features + 1):\n",
        "            plt.subplot(n_rows, n_features + 1, i * (n_features + 1) + j + 1)\n",
        "            if i == 0:\n",
        "                plt.title(TITLES[j], fontsize=13)\n",
        "            if j < n_features - 1:\n",
        "                plt.imshow(inputs[i, :, :, j], cmap='viridis')\n",
        "            if j == n_features - 1:\n",
        "                plt.imshow(inputs[i, :, :, -1], cmap=CMAP, norm=NORM)\n",
        "            if j == n_features:\n",
        "                plt.imshow(labels[i, :, :, 0], cmap=CMAP, norm=NORM)\n",
        "            plt.axis('off')\n",
        "    plt.tight_layout()"
      ]
    },
    {
      "cell_type": "code",
      "execution_count": null,
      "metadata": {
        "colab": {
          "background_save": true,
          "base_uri": "https://localhost:8080/",
          "height": 293
        },
        "id": "p7sqMBQ6_G05",
        "outputId": "b1b8eebb-c0af-4c1a-bc2b-dbfb6f4aac84"
      },
      "outputs": [
        {
          "data": {
            "image/png": "[encoded data removed]",
            "text/plain": [
              "<Figure size 1500x650 with 65 Axes>"
            ]
          },
          "metadata": {},
          "output_type": "display_data"
        }
      ],
      "source": [
        "plot_samples_from_dataset(train_dataset, 5)"
      ]
    },
    {
      "cell_type": "code",
      "execution_count": null,
      "metadata": {
        "id": "RUpTC-1RAcLI"
      },
      "outputs": [],
      "source": [
        "import tensorflow as tf\n",
        "from tensorflow.keras import layers, models\n",
        "from tensorflow.keras.losses import Loss\n",
        "\n",
        "# Dice coefficient loss function\n",
        "class DiceLoss(Loss):\n",
        "    def call(self, y_true, y_pred):\n",
        "        smooth = 1.0  # To avoid division by zero\n",
        "        y_true_f = tf.reshape(y_true, [-1])\n",
        "        y_pred_f = tf.reshape(y_pred, [-1])\n",
        "        intersection = tf.reduce_sum(y_true_f * y_pred_f)\n",
        "        dice_score = (2. * intersection + smooth) / (tf.reduce_sum(y_true_f) + tf.reduce_sum(y_pred_f) + smooth)\n",
        "        return 1 - dice_score\n",
        "\n",
        "# Create a callable function for the Dice metric\n",
        "def dice_metric(y_true, y_pred):\n",
        "    # Reuse the logic from DiceLoss\n",
        "    smooth = 1.0\n",
        "    y_true_f = tf.reshape(y_true, [-1])\n",
        "    y_pred_f = tf.reshape(y_pred, [-1])\n",
        "    intersection = tf.reduce_sum(y_true_f * y_pred_f)\n",
        "    dice_score = (2. * intersection + smooth) / (tf.reduce_sum(y_true_f) + tf.reduce_sum(y_pred_f) + smooth)\n",
        "    return dice_score  # Return the Dice score directly (not 1 - score)"
      ]
    },
    {
      "cell_type": "code",
      "execution_count": null,
      "metadata": {
        "colab": {
          "base_uri": "https://localhost:8080/"
        },
        "id": "4qrx6ffH3EOz",
        "outputId": "d0950214-1b73-4f46-c1cc-c85975bb3499"
      },
      "outputs": [
        {
          "name": "stdout",
          "output_type": "stream",
          "text": [
            "Model: \"model_10\"\n",
            "__________________________________________________________________________________________________\n",
            " Layer (type)                Output Shape                 Param #   Connected to                  \n",
            "==================================================================================================\n",
            " input_11 (InputLayer)       [(None, 32, 32, 12)]         0         []                            \n",
            "                                                                                                  \n",
            " conv2d_5 (Conv2D)           (None, 32, 32, 32)           3488      ['input_11[0][0]']            \n",
            "                                                                                                  \n",
            " max_pooling2d_3 (MaxPoolin  (None, 16, 16, 32)           0         ['conv2d_5[0][0]']            \n",
            " g2D)                                                                                             \n",
            "                                                                                                  \n",
            " conv2d_6 (Conv2D)           (None, 16, 16, 64)           18496     ['max_pooling2d_3[0][0]']     \n",
            "                                                                                                  \n",
            " conv2d_7 (Conv2D)           (None, 16, 16, 64)           51264     ['max_pooling2d_3[0][0]']     \n",
            "                                                                                                  \n",
            " conv2d_8 (Conv2D)           (None, 16, 16, 64)           100416    ['max_pooling2d_3[0][0]']     \n",
            "                                                                                                  \n",
            " concatenate_1 (Concatenate  (None, 16, 16, 192)          0         ['conv2d_6[0][0]',            \n",
            " )                                                                   'conv2d_7[0][0]',            \n",
            "                                                                     'conv2d_8[0][0]']            \n",
            "                                                                                                  \n",
            " max_pooling2d_4 (MaxPoolin  (None, 8, 8, 192)            0         ['concatenate_1[0][0]']       \n",
            " g2D)                                                                                             \n",
            "                                                                                                  \n",
            " conv2d_9 (Conv2D)           (None, 8, 8, 128)            221312    ['max_pooling2d_4[0][0]']     \n",
            "                                                                                                  \n",
            " max_pooling2d_5 (MaxPoolin  (None, 4, 4, 128)            0         ['conv2d_9[0][0]']            \n",
            " g2D)                                                                                             \n",
            "                                                                                                  \n",
            " flatten_1 (Flatten)         (None, 2048)                 0         ['max_pooling2d_5[0][0]']     \n",
            "                                                                                                  \n",
            " dense_39 (Dense)            (None, 128)                  262272    ['flatten_1[0][0]']           \n",
            "                                                                                                  \n",
            " dropout_2 (Dropout)         (None, 128)                  0         ['dense_39[0][0]']            \n",
            "                                                                                                  \n",
            " dense_40 (Dense)            (None, 256)                  33024     ['dropout_2[0][0]']           \n",
            "                                                                                                  \n",
            " dropout_3 (Dropout)         (None, 256)                  0         ['dense_40[0][0]']            \n",
            "                                                                                                  \n",
            " dense_41 (Dense)            (None, 1024)                 263168    ['dropout_3[0][0]']           \n",
            "                                                                                                  \n",
            " reshape_28 (Reshape)        (None, 32, 32)               0         ['dense_41[0][0]']            \n",
            "                                                                                                  \n",
            "==================================================================================================\n",
            "Total params: 953440 (3.64 MB)\n",
            "Trainable params: 953440 (3.64 MB)\n",
            "Non-trainable params: 0 (0.00 Byte)\n",
            "__________________________________________________________________________________________________\n"
          ]
        }
      ],
      "source": [
        "\n",
        "# Multi-kernel CNN model\n",
        "def multi_kernel_cnn(input_shape=(32, 32, 12)):\n",
        "    inputs = layers.Input(shape=input_shape)\n",
        "\n",
        "    # Encoder block\n",
        "    x = layers.Conv2D(32, kernel_size=3, padding='same', activation='relu')(inputs)\n",
        "    x = layers.MaxPooling2D(pool_size=(2, 2))(x)\n",
        "\n",
        "    # Applying different kernel sizes\n",
        "    x1 = layers.Conv2D(64, kernel_size=3, padding='same', activation='relu')(x)\n",
        "    x2 = layers.Conv2D(64, kernel_size=5, padding='same', activation='relu')(x)\n",
        "    x3 = layers.Conv2D(64, kernel_size=7, padding='same', activation='relu')(x)\n",
        "\n",
        "    x = layers.concatenate([x1, x2, x3])\n",
        "    x = layers.MaxPooling2D(pool_size=(2, 2))(x)\n",
        "\n",
        "    # Further convolution and pooling\n",
        "    x = layers.Conv2D(128, kernel_size=3, padding='same', activation='relu')(x)\n",
        "    x = layers.MaxPooling2D(pool_size=(2, 2))(x)\n",
        "\n",
        "    # Flattening and dense layers\n",
        "    x = layers.Flatten()(x)\n",
        "    x = layers.Dense(128, activation='relu')(x)\n",
        "    x = layers.Dropout(0.3)(x)\n",
        "    x = layers.Dense(256, activation='relu')(x)\n",
        "    x = layers.Dropout(0.3)(x)\n",
        "    x = layers.Dense(1024, activation='sigmoid')(x)\n",
        "\n",
        "    # Reshaping output to match the desired output size\n",
        "    outputs = layers.Reshape((32, 32))(x)\n",
        "\n",
        "    # Creating the model\n",
        "    model = models.Model(inputs=inputs, outputs=outputs)\n",
        "    return model\n",
        "\n",
        "# Compile and train the model\n",
        "input_shape = (32, 32, 12)\n",
        "dice_loss = DiceLoss()\n",
        "auc=AUCWithMaskedClass()\n",
        "recall=RecallWithMaskedClass()\n",
        "precision=PrecisionWithMaskedClass()\n",
        "model = multi_kernel_cnn(input_shape)\n",
        "model.summary()\n",
        "\n",
        "loss_fn = lambda y_true, y_pred: weighted_binary_crossentropy(y_true, y_pred, weight=3)\n",
        "\n",
        "model.compile(optimizer=tf.keras.optimizers.Adam(learning_rate=0.0001),\n",
        "              loss=loss_fn,\n",
        "              metrics=['binary_accuracy',auc,recall,precision])\n"
      ]
    },
    {
      "cell_type": "code",
      "execution_count": null,
      "metadata": {
        "colab": {
          "base_uri": "https://localhost:8080/"
        },
        "id": "SnxYZTD2gnmn",
        "outputId": "3cf1bdd7-2ea1-41ea-f13d-e024faff2bfa"
      },
      "outputs": [
        {
          "name": "stdout",
          "output_type": "stream",
          "text": [
            "Collecting keras-tuner\n",
            "  Downloading keras_tuner-1.4.7-py3-none-any.whl.metadata (5.4 kB)\n",
            "Requirement already satisfied: keras in /usr/local/lib/python3.10/dist-packages (from keras-tuner) (2.15.0)\n",
            "Requirement already satisfied: packaging in /usr/local/lib/python3.10/dist-packages (from keras-tuner) (24.1)\n",
            "Requirement already satisfied: requests in /usr/local/lib/python3.10/dist-packages (from keras-tuner) (2.32.3)\n",
            "Collecting kt-legacy (from keras-tuner)\n",
            "  Downloading kt_legacy-1.0.5-py3-none-any.whl.metadata (221 bytes)\n",
            "Requirement already satisfied: charset-normalizer<4,>=2 in /usr/local/lib/python3.10/dist-packages (from requests->keras-tuner) (3.4.0)\n",
            "Requirement already satisfied: idna<4,>=2.5 in /usr/local/lib/python3.10/dist-packages (from requests->keras-tuner) (3.10)\n",
            "Requirement already satisfied: urllib3<3,>=1.21.1 in /usr/local/lib/python3.10/dist-packages (from requests->keras-tuner) (2.2.3)\n",
            "Requirement already satisfied: certifi>=2017.4.17 in /usr/local/lib/python3.10/dist-packages (from requests->keras-tuner) (2024.8.30)\n",
            "Downloading keras_tuner-1.4.7-py3-none-any.whl (129 kB)\n",
            "\u001b[?25l   \u001b[90m━━━━━━━━━━━━━━━━━━━━━━━━━━━━━━━━━━━━━━━━\u001b[0m \u001b[32m0.0/129.1 kB\u001b[0m \u001b[31m?\u001b[0m eta \u001b[36m-:--:--\u001b[0m\r\u001b[2K   \u001b[91m━━━━━━━━━━━━━━━━━━━━━━━━━━━━━━━━━━\u001b[0m\u001b[91m╸\u001b[0m\u001b[90m━━━━━\u001b[0m \u001b[32m112.6/129.1 kB\u001b[0m \u001b[31m3.2 MB/s\u001b[0m eta \u001b[36m0:00:01\u001b[0m\r\u001b[2K   \u001b[90m━━━━━━━━━━━━━━━━━━━━━━━━━━━━━━━━━━━━━━━━\u001b[0m \u001b[32m129.1/129.1 kB\u001b[0m \u001b[31m2.7 MB/s\u001b[0m eta \u001b[36m0:00:00\u001b[0m\n",
            "\u001b[?25hDownloading kt_legacy-1.0.5-py3-none-any.whl (9.6 kB)\n",
            "Installing collected packages: kt-legacy, keras-tuner\n",
            "Successfully installed keras-tuner-1.4.7 kt-legacy-1.0.5\n"
          ]
        }
      ],
      "source": [
        "!pip install keras-tuner"
      ]
    },
    {
      "cell_type": "code",
      "execution_count": null,
      "metadata": {
        "id": "bXMqUEyNnYE4"
      },
      "outputs": [],
      "source": [
        "def weighted_binary_crossentropy(y_true, y_pred, weight=1.0):\n",
        "    \"\"\"\n",
        "    Custom weighted binary crossentropy.\n",
        "    You can adjust `weight` to penalize certain classes more heavily.\n",
        "    \"\"\"\n",
        "    bce = tf.keras.losses.BinaryCrossentropy()\n",
        "    return weight * bce(y_true, y_pred)"
      ]
    },
    {
      "cell_type": "code",
      "execution_count": null,
      "metadata": {
        "colab": {
          "base_uri": "https://localhost:8080/"
        },
        "id": "3DmC0Dwdl-bR",
        "outputId": "246745f3-adb0-4380-b821-5f9942ef1f08"
      },
      "outputs": [
        {
          "name": "stdout",
          "output_type": "stream",
          "text": [
            "Reloading Tuner from /content/drive/MyDrive/hp/wildfire_lln_cnn/tuner0.json\n",
            "\n",
            "The hyperparameter search is complete. The optimal learning rate is\n",
            "0.0001, optimizer is adam,\n",
            "and loss function is weighted_binary_crossentropy.\n",
            "\n"
          ]
        }
      ],
      "source": [
        "import tensorflow as tf\n",
        "import keras_tuner as kt\n",
        "from keras_tuner import RandomSearch\n",
        "\n",
        "\n",
        "def build_model(hp):\n",
        "    input_shape = (32, 32, 12)\n",
        "\n",
        "    # Instantiate the multi-kernel CNN model\n",
        "    model = multi_kernel_cnn(input_shape)\n",
        "\n",
        "    # Define hyperparameters for tuning\n",
        "    learning_rate = hp.Choice('learning_rate', values=[ 1e-3,1e-4,1e-5,0.0005])\n",
        "    optimizer_choice = hp.Choice('optimizer', values=['adam','rmsprop','adamax'])\n",
        "\n",
        "    # Configure optimizer based on hyperparameter selection\n",
        "    if optimizer_choice == 'adam':\n",
        "        optimizer = tf.keras.optimizers.Adam(learning_rate=learning_rate)\n",
        "    else:\n",
        "        optimizer = tf.keras.optimizers.RMSprop(learning_rate=learning_rate)\n",
        "\n",
        "    # Define multiple loss functions and set one for tuning\n",
        "    loss_choice = hp.Choice('loss_function', values=['dice', 'binary_crossentropy', 'weighted_binary_crossentropy'])\n",
        "    if loss_choice == 'dice':\n",
        "        loss_fn = DiceLoss()\n",
        "    elif loss_choice == 'binary_crossentropy':\n",
        "        loss_fn = tf.keras.losses.BinaryCrossentropy()\n",
        "    else:\n",
        "        # Set a weight for weighted binary crossentropy (customize as needed)\n",
        "        loss_fn = lambda y_true, y_pred: weighted_binary_crossentropy(y_true, y_pred, weight=3)\n",
        "\n",
        "    model.compile(optimizer=optimizer,\n",
        "                  loss=loss_fn,\n",
        "                  metrics=['binary_accuracy', auc, recall, precision])\n",
        "    return model\n",
        "\n",
        "# Set up the tuner with Hyperband search\n",
        "tuner = RandomSearch(\n",
        "    build_model,\n",
        "    objective='val_loss',  # Objective to minimize\n",
        "    max_trials=20,\n",
        "    executions_per_trial=1,\n",
        "    directory='/content/drive/MyDrive/hp',  # Directory for results\n",
        "    project_name='wildfire_lln_cnn'  # Project name\n",
        ")\n",
        "\n",
        "# Run hyperparameter search\n",
        "tuner.search(train_dataset, epochs=20, validation_data=val_dataset)\n",
        "# Retrieve the best hyperparameters\n",
        "best_hps = tuner.get_best_hyperparameters(num_trials=1)[0]\n",
        "\n",
        "print(f\"\"\"\n",
        "The hyperparameter search is complete. The optimal learning rate is\n",
        "{best_hps.get('learning_rate')}, optimizer is {best_hps.get('optimizer')},\n",
        "and loss function is {best_hps.get('loss_function')}.\n",
        "\"\"\")\n"
      ]
    },
    {
      "cell_type": "code",
      "execution_count": null,
      "metadata": {
        "colab": {
          "base_uri": "https://localhost:8080/"
        },
        "id": "dWDIjkQ2h2sz",
        "outputId": "d5829a30-19dd-4b75-e4f4-c8a2c33e786a"
      },
      "outputs": [
        {
          "name": "stdout",
          "output_type": "stream",
          "text": [
            "Timestamp folder name: 20241107_041611\n",
            " folder name: /content/drive/MyDrive/models/CNN_multi_kernal/20241107_041611\n"
          ]
        }
      ],
      "source": [
        "import datetime\n",
        "\n",
        "def get_timestamp_folder_name():\n",
        "  \"\"\"Generates a timestamp-based folder name.\"\"\"\n",
        "  now = datetime.datetime.now()\n",
        "  timestamp_str = now.strftime(\"%Y%m%d_%H%M%S\")\n",
        "  return timestamp_str\n",
        "\n",
        "timestamp_folder = get_timestamp_folder_name()\n",
        "print(f\"Timestamp folder name: {timestamp_folder}\")\n",
        "\n",
        "\n",
        "# Example of using the timestamp_folder\n",
        "# Assuming you have a directory where you want to save the model and logs.\n",
        "model_dir = \"/content/drive/MyDrive/models/CNN_multi_kernal\" # Or wherever you want to save your model.\n",
        "model_save_path = os.path.join(model_dir, timestamp_folder) # Create model directory with the timestamp\n",
        "\n",
        "# Create the model directory\n",
        "os.makedirs(model_save_path, exist_ok=True) # exist_ok=True prevents error if directory exists\n",
        "\n",
        "print(f\" folder name: {model_save_path}\")"
      ]
    },
    {
      "cell_type": "code",
      "execution_count": null,
      "metadata": {
        "colab": {
          "base_uri": "https://localhost:8080/"
        },
        "id": "ur_VZpZlJsOf",
        "outputId": "cd29f543-fb3c-464b-a0b7-c00e436c34cc"
      },
      "outputs": [
        {
          "name": "stdout",
          "output_type": "stream",
          "text": [
            "Epoch 1/1000\n",
            "469/469 [==============================] - 11s 13ms/step - loss: -0.1307 - binary_accuracy: 0.9252 - auc_with_masked_class_9: 0.6308 - recall_with_masked_class_9: 0.0305 - precision_with_masked_class_9: 0.0254 - val_loss: -0.3989 - val_binary_accuracy: 0.9469 - val_auc_with_masked_class_9: 0.6800 - val_recall_with_masked_class_9: 0.0000e+00 - val_precision_with_masked_class_9: 0.0000e+00\n",
            "Epoch 2/1000\n"
          ]
        },
        {
          "name": "stderr",
          "output_type": "stream",
          "text": [
            "/usr/local/lib/python3.10/dist-packages/keras/src/engine/training.py:3103: UserWarning: You are saving your model as an HDF5 file via `model.save()`. This file format is considered legacy. We recommend using instead the native Keras format, e.g. `model.save('my_model.keras')`.\n",
            "  saving_api.save_model(\n"
          ]
        },
        {
          "name": "stdout",
          "output_type": "stream",
          "text": [
            "469/469 [==============================] - 5s 11ms/step - loss: -0.3770 - binary_accuracy: 0.9533 - auc_with_masked_class_9: 0.6750 - recall_with_masked_class_9: 3.6795e-05 - precision_with_masked_class_9: 0.0415 - val_loss: -0.3195 - val_binary_accuracy: 0.9473 - val_auc_with_masked_class_9: 0.6466 - val_recall_with_masked_class_9: 0.0000e+00 - val_precision_with_masked_class_9: 0.0000e+00\n",
            "Epoch 3/1000\n",
            "469/469 [==============================] - 5s 11ms/step - loss: -0.3854 - binary_accuracy: 0.9536 - auc_with_masked_class_9: 0.6810 - recall_with_masked_class_9: 0.0000e+00 - precision_with_masked_class_9: 0.0000e+00 - val_loss: -0.3249 - val_binary_accuracy: 0.9479 - val_auc_with_masked_class_9: 0.6465 - val_recall_with_masked_class_9: 0.0000e+00 - val_precision_with_masked_class_9: 0.0000e+00\n",
            "Epoch 4/1000\n",
            "469/469 [==============================] - 5s 11ms/step - loss: -0.4090 - binary_accuracy: 0.9536 - auc_with_masked_class_9: 0.6814 - recall_with_masked_class_9: 0.0000e+00 - precision_with_masked_class_9: 0.0000e+00 - val_loss: -0.3056 - val_binary_accuracy: 0.9479 - val_auc_with_masked_class_9: 0.6566 - val_recall_with_masked_class_9: 0.0000e+00 - val_precision_with_masked_class_9: 0.0000e+00\n",
            "Epoch 5/1000\n",
            "469/469 [==============================] - 5s 11ms/step - loss: -0.4201 - binary_accuracy: 0.9533 - auc_with_masked_class_9: 0.6917 - recall_with_masked_class_9: 0.0000e+00 - precision_with_masked_class_9: 0.0000e+00 - val_loss: -0.3641 - val_binary_accuracy: 0.9485 - val_auc_with_masked_class_9: 0.6513 - val_recall_with_masked_class_9: 0.0000e+00 - val_precision_with_masked_class_9: 0.0000e+00\n",
            "Epoch 6/1000\n",
            "469/469 [==============================] - 5s 11ms/step - loss: -0.4122 - binary_accuracy: 0.9536 - auc_with_masked_class_9: 0.6996 - recall_with_masked_class_9: 0.0000e+00 - precision_with_masked_class_9: 0.0000e+00 - val_loss: -0.3321 - val_binary_accuracy: 0.9470 - val_auc_with_masked_class_9: 0.6742 - val_recall_with_masked_class_9: 0.0000e+00 - val_precision_with_masked_class_9: 0.0000e+00\n",
            "Epoch 7/1000\n",
            "469/469 [==============================] - 6s 12ms/step - loss: -0.4319 - binary_accuracy: 0.9536 - auc_with_masked_class_9: 0.7048 - recall_with_masked_class_9: 0.0000e+00 - precision_with_masked_class_9: 0.0000e+00 - val_loss: -0.4142 - val_binary_accuracy: 0.9477 - val_auc_with_masked_class_9: 0.7005 - val_recall_with_masked_class_9: 0.0000e+00 - val_precision_with_masked_class_9: 0.0000e+00\n",
            "Epoch 8/1000\n",
            "469/469 [==============================] - 5s 11ms/step - loss: -0.4183 - binary_accuracy: 0.9539 - auc_with_masked_class_9: 0.7089 - recall_with_masked_class_9: 0.0000e+00 - precision_with_masked_class_9: 0.0000e+00 - val_loss: -0.3897 - val_binary_accuracy: 0.9469 - val_auc_with_masked_class_9: 0.6974 - val_recall_with_masked_class_9: 0.0000e+00 - val_precision_with_masked_class_9: 0.0000e+00\n",
            "Epoch 9/1000\n",
            "469/469 [==============================] - 5s 11ms/step - loss: -0.4442 - binary_accuracy: 0.9536 - auc_with_masked_class_9: 0.7146 - recall_with_masked_class_9: 0.0000e+00 - precision_with_masked_class_9: 0.0000e+00 - val_loss: -0.3730 - val_binary_accuracy: 0.9477 - val_auc_with_masked_class_9: 0.6915 - val_recall_with_masked_class_9: 0.0000e+00 - val_precision_with_masked_class_9: 0.0000e+00\n",
            "Epoch 10/1000\n",
            "469/469 [==============================] - 6s 12ms/step - loss: -0.4646 - binary_accuracy: 0.9529 - auc_with_masked_class_9: 0.7203 - recall_with_masked_class_9: 0.0000e+00 - precision_with_masked_class_9: 0.0000e+00 - val_loss: -0.4370 - val_binary_accuracy: 0.9469 - val_auc_with_masked_class_9: 0.7047 - val_recall_with_masked_class_9: 0.0000e+00 - val_precision_with_masked_class_9: 0.0000e+00\n",
            "Epoch 11/1000\n",
            "469/469 [==============================] - 5s 11ms/step - loss: -0.4495 - binary_accuracy: 0.9533 - auc_with_masked_class_9: 0.7240 - recall_with_masked_class_9: 0.0000e+00 - precision_with_masked_class_9: 0.0000e+00 - val_loss: -0.4054 - val_binary_accuracy: 0.9472 - val_auc_with_masked_class_9: 0.7133 - val_recall_with_masked_class_9: 0.0000e+00 - val_precision_with_masked_class_9: 0.0000e+00\n",
            "Epoch 12/1000\n",
            "469/469 [==============================] - 5s 11ms/step - loss: -0.4656 - binary_accuracy: 0.9533 - auc_with_masked_class_9: 0.7374 - recall_with_masked_class_9: 8.1611e-05 - precision_with_masked_class_9: 0.2331 - val_loss: -0.4031 - val_binary_accuracy: 0.9479 - val_auc_with_masked_class_9: 0.7463 - val_recall_with_masked_class_9: 8.7152e-05 - val_precision_with_masked_class_9: 0.2941\n",
            "Epoch 13/1000\n",
            "469/469 [==============================] - 5s 11ms/step - loss: -0.4529 - binary_accuracy: 0.9537 - auc_with_masked_class_9: 0.7467 - recall_with_masked_class_9: 7.5737e-04 - precision_with_masked_class_9: 0.2781 - val_loss: -0.4261 - val_binary_accuracy: 0.9472 - val_auc_with_masked_class_9: 0.7401 - val_recall_with_masked_class_9: 0.0000e+00 - val_precision_with_masked_class_9: 0.0000e+00\n",
            "Epoch 14/1000\n",
            "469/469 [==============================] - 5s 11ms/step - loss: -0.4690 - binary_accuracy: 0.9534 - auc_with_masked_class_9: 0.7646 - recall_with_masked_class_9: 0.0022 - precision_with_masked_class_9: 0.2645 - val_loss: -0.4009 - val_binary_accuracy: 0.9475 - val_auc_with_masked_class_9: 0.7233 - val_recall_with_masked_class_9: 4.1594e-04 - val_precision_with_masked_class_9: 0.1558\n",
            "Epoch 15/1000\n",
            "469/469 [==============================] - 6s 12ms/step - loss: -0.5038 - binary_accuracy: 0.9533 - auc_with_masked_class_9: 0.7767 - recall_with_masked_class_9: 0.0050 - precision_with_masked_class_9: 0.2934 - val_loss: -0.4475 - val_binary_accuracy: 0.9474 - val_auc_with_masked_class_9: 0.7350 - val_recall_with_masked_class_9: 0.0000e+00 - val_precision_with_masked_class_9: 0.0000e+00\n",
            "Epoch 16/1000\n",
            "469/469 [==============================] - 6s 11ms/step - loss: -0.5048 - binary_accuracy: 0.9530 - auc_with_masked_class_9: 0.7887 - recall_with_masked_class_9: 0.0070 - precision_with_masked_class_9: 0.2755 - val_loss: -0.4387 - val_binary_accuracy: 0.9478 - val_auc_with_masked_class_9: 0.7536 - val_recall_with_masked_class_9: 5.0526e-04 - val_precision_with_masked_class_9: 0.1706\n",
            "Epoch 17/1000\n",
            "469/469 [==============================] - 5s 11ms/step - loss: -0.5437 - binary_accuracy: 0.9529 - auc_with_masked_class_9: 0.7964 - recall_with_masked_class_9: 0.0088 - precision_with_masked_class_9: 0.2930 - val_loss: -0.4368 - val_binary_accuracy: 0.9473 - val_auc_with_masked_class_9: 0.7491 - val_recall_with_masked_class_9: 0.0012 - val_precision_with_masked_class_9: 0.1446\n",
            "Epoch 18/1000\n",
            "469/469 [==============================] - 6s 12ms/step - loss: -0.5011 - binary_accuracy: 0.9531 - auc_with_masked_class_9: 0.7971 - recall_with_masked_class_9: 0.0106 - precision_with_masked_class_9: 0.2782 - val_loss: -0.4661 - val_binary_accuracy: 0.9468 - val_auc_with_masked_class_9: 0.7598 - val_recall_with_masked_class_9: 0.0054 - val_precision_with_masked_class_9: 0.2186\n",
            "Epoch 19/1000\n",
            "469/469 [==============================] - 5s 11ms/step - loss: -0.5283 - binary_accuracy: 0.9530 - auc_with_masked_class_9: 0.8041 - recall_with_masked_class_9: 0.0159 - precision_with_masked_class_9: 0.2967 - val_loss: -0.4873 - val_binary_accuracy: 0.9471 - val_auc_with_masked_class_9: 0.7577 - val_recall_with_masked_class_9: 0.0010 - val_precision_with_masked_class_9: 0.2125\n",
            "Epoch 20/1000\n",
            "469/469 [==============================] - 6s 12ms/step - loss: -0.5520 - binary_accuracy: 0.9528 - auc_with_masked_class_9: 0.8084 - recall_with_masked_class_9: 0.0131 - precision_with_masked_class_9: 0.3025 - val_loss: -0.5168 - val_binary_accuracy: 0.9462 - val_auc_with_masked_class_9: 0.7692 - val_recall_with_masked_class_9: 0.0031 - val_precision_with_masked_class_9: 0.1967\n",
            "Epoch 21/1000\n",
            "469/469 [==============================] - 5s 11ms/step - loss: -0.5486 - binary_accuracy: 0.9530 - auc_with_masked_class_9: 0.8089 - recall_with_masked_class_9: 0.0170 - precision_with_masked_class_9: 0.3224 - val_loss: -0.4456 - val_binary_accuracy: 0.9474 - val_auc_with_masked_class_9: 0.7634 - val_recall_with_masked_class_9: 0.0050 - val_precision_with_masked_class_9: 0.2134\n",
            "Epoch 22/1000\n",
            "469/469 [==============================] - 5s 11ms/step - loss: -0.5548 - binary_accuracy: 0.9529 - auc_with_masked_class_9: 0.8146 - recall_with_masked_class_9: 0.0171 - precision_with_masked_class_9: 0.3023 - val_loss: -0.4953 - val_binary_accuracy: 0.9464 - val_auc_with_masked_class_9: 0.7548 - val_recall_with_masked_class_9: 0.0013 - val_precision_with_masked_class_9: 0.1716\n",
            "Epoch 23/1000\n",
            "469/469 [==============================] - 5s 11ms/step - loss: -0.5685 - binary_accuracy: 0.9530 - auc_with_masked_class_9: 0.8141 - recall_with_masked_class_9: 0.0156 - precision_with_masked_class_9: 0.3141 - val_loss: -0.4465 - val_binary_accuracy: 0.9472 - val_auc_with_masked_class_9: 0.7532 - val_recall_with_masked_class_9: 0.0038 - val_precision_with_masked_class_9: 0.2778\n",
            "Epoch 24/1000\n",
            "469/469 [==============================] - 5s 11ms/step - loss: -0.5689 - binary_accuracy: 0.9529 - auc_with_masked_class_9: 0.8193 - recall_with_masked_class_9: 0.0185 - precision_with_masked_class_9: 0.3143 - val_loss: -0.4522 - val_binary_accuracy: 0.9470 - val_auc_with_masked_class_9: 0.7572 - val_recall_with_masked_class_9: 7.7822e-04 - val_precision_with_masked_class_9: 0.2359\n",
            "Epoch 25/1000\n",
            "469/469 [==============================] - 5s 11ms/step - loss: -0.5703 - binary_accuracy: 0.9526 - auc_with_masked_class_9: 0.8212 - recall_with_masked_class_9: 0.0165 - precision_with_masked_class_9: 0.3240 - val_loss: -0.4746 - val_binary_accuracy: 0.9464 - val_auc_with_masked_class_9: 0.7562 - val_recall_with_masked_class_9: 0.0015 - val_precision_with_masked_class_9: 0.1860\n",
            "Epoch 26/1000\n",
            "469/469 [==============================] - 5s 11ms/step - loss: -0.5704 - binary_accuracy: 0.9531 - auc_with_masked_class_9: 0.8217 - recall_with_masked_class_9: 0.0161 - precision_with_masked_class_9: 0.3139 - val_loss: -0.4730 - val_binary_accuracy: 0.9476 - val_auc_with_masked_class_9: 0.7513 - val_recall_with_masked_class_9: 0.0060 - val_precision_with_masked_class_9: 0.2872\n",
            "Epoch 27/1000\n",
            "469/469 [==============================] - 5s 11ms/step - loss: -0.5566 - binary_accuracy: 0.9532 - auc_with_masked_class_9: 0.8224 - recall_with_masked_class_9: 0.0184 - precision_with_masked_class_9: 0.3309 - val_loss: -0.4690 - val_binary_accuracy: 0.9473 - val_auc_with_masked_class_9: 0.7515 - val_recall_with_masked_class_9: 0.0049 - val_precision_with_masked_class_9: 0.2853\n",
            "Epoch 28/1000\n",
            "469/469 [==============================] - 5s 11ms/step - loss: -0.5861 - binary_accuracy: 0.9528 - auc_with_masked_class_9: 0.8240 - recall_with_masked_class_9: 0.0140 - precision_with_masked_class_9: 0.3179 - val_loss: -0.4742 - val_binary_accuracy: 0.9476 - val_auc_with_masked_class_9: 0.7658 - val_recall_with_masked_class_9: 0.0016 - val_precision_with_masked_class_9: 0.2153\n",
            "Epoch 29/1000\n",
            "469/469 [==============================] - 5s 11ms/step - loss: -0.5665 - binary_accuracy: 0.9534 - auc_with_masked_class_9: 0.8291 - recall_with_masked_class_9: 0.0155 - precision_with_masked_class_9: 0.3122 - val_loss: -0.4363 - val_binary_accuracy: 0.9472 - val_auc_with_masked_class_9: 0.7476 - val_recall_with_masked_class_9: 0.0049 - val_precision_with_masked_class_9: 0.3103\n",
            "Epoch 30/1000\n",
            "469/469 [==============================] - 6s 13ms/step - loss: -0.5905 - binary_accuracy: 0.9526 - auc_with_masked_class_9: 0.8317 - recall_with_masked_class_9: 0.0158 - precision_with_masked_class_9: 0.3249 - val_loss: -0.5384 - val_binary_accuracy: 0.9464 - val_auc_with_masked_class_9: 0.7779 - val_recall_with_masked_class_9: 0.0024 - val_precision_with_masked_class_9: 0.2465\n",
            "Epoch 31/1000\n",
            "469/469 [==============================] - 5s 11ms/step - loss: -0.5774 - binary_accuracy: 0.9532 - auc_with_masked_class_9: 0.8322 - recall_with_masked_class_9: 0.0172 - precision_with_masked_class_9: 0.3323 - val_loss: -0.5071 - val_binary_accuracy: 0.9472 - val_auc_with_masked_class_9: 0.7715 - val_recall_with_masked_class_9: 0.0059 - val_precision_with_masked_class_9: 0.3323\n",
            "Epoch 32/1000\n",
            "469/469 [==============================] - 5s 11ms/step - loss: -0.5974 - binary_accuracy: 0.9528 - auc_with_masked_class_9: 0.8326 - recall_with_masked_class_9: 0.0156 - precision_with_masked_class_9: 0.3476 - val_loss: -0.4148 - val_binary_accuracy: 0.9467 - val_auc_with_masked_class_9: 0.7448 - val_recall_with_masked_class_9: 0.0114 - val_precision_with_masked_class_9: 0.3386\n",
            "Epoch 33/1000\n",
            "469/469 [==============================] - 5s 11ms/step - loss: -0.5978 - binary_accuracy: 0.9529 - auc_with_masked_class_9: 0.8361 - recall_with_masked_class_9: 0.0162 - precision_with_masked_class_9: 0.3468 - val_loss: -0.4387 - val_binary_accuracy: 0.9482 - val_auc_with_masked_class_9: 0.7583 - val_recall_with_masked_class_9: 0.0043 - val_precision_with_masked_class_9: 0.3624\n",
            "Epoch 34/1000\n",
            "469/469 [==============================] - 5s 11ms/step - loss: -0.6192 - binary_accuracy: 0.9526 - auc_with_masked_class_9: 0.8351 - recall_with_masked_class_9: 0.0158 - precision_with_masked_class_9: 0.3440 - val_loss: -0.4760 - val_binary_accuracy: 0.9470 - val_auc_with_masked_class_9: 0.7735 - val_recall_with_masked_class_9: 0.0041 - val_precision_with_masked_class_9: 0.3027\n",
            "Epoch 35/1000\n",
            "469/469 [==============================] - 6s 11ms/step - loss: -0.6022 - binary_accuracy: 0.9532 - auc_with_masked_class_9: 0.8369 - recall_with_masked_class_9: 0.0140 - precision_with_masked_class_9: 0.3521 - val_loss: -0.4584 - val_binary_accuracy: 0.9482 - val_auc_with_masked_class_9: 0.7711 - val_recall_with_masked_class_9: 0.0038 - val_precision_with_masked_class_9: 0.3303\n",
            "Epoch 36/1000\n",
            "469/469 [==============================] - 5s 11ms/step - loss: -0.5941 - binary_accuracy: 0.9530 - auc_with_masked_class_9: 0.8403 - recall_with_masked_class_9: 0.0158 - precision_with_masked_class_9: 0.3477 - val_loss: -0.4673 - val_binary_accuracy: 0.9469 - val_auc_with_masked_class_9: 0.7618 - val_recall_with_masked_class_9: 0.0040 - val_precision_with_masked_class_9: 0.3244\n",
            "Epoch 37/1000\n",
            "469/469 [==============================] - 5s 11ms/step - loss: -0.5844 - binary_accuracy: 0.9537 - auc_with_masked_class_9: 0.8376 - recall_with_masked_class_9: 0.0146 - precision_with_masked_class_9: 0.3497 - val_loss: -0.4557 - val_binary_accuracy: 0.9468 - val_auc_with_masked_class_9: 0.7703 - val_recall_with_masked_class_9: 0.0012 - val_precision_with_masked_class_9: 0.2892\n",
            "Epoch 38/1000\n",
            "469/469 [==============================] - 5s 11ms/step - loss: -0.6097 - binary_accuracy: 0.9533 - auc_with_masked_class_9: 0.8429 - recall_with_masked_class_9: 0.0150 - precision_with_masked_class_9: 0.3430 - val_loss: -0.5224 - val_binary_accuracy: 0.9472 - val_auc_with_masked_class_9: 0.7929 - val_recall_with_masked_class_9: 0.0028 - val_precision_with_masked_class_9: 0.3133\n",
            "Epoch 39/1000\n",
            "469/469 [==============================] - 5s 11ms/step - loss: -0.6105 - binary_accuracy: 0.9531 - auc_with_masked_class_9: 0.8392 - recall_with_masked_class_9: 0.0147 - precision_with_masked_class_9: 0.3574 - val_loss: -0.4988 - val_binary_accuracy: 0.9472 - val_auc_with_masked_class_9: 0.7946 - val_recall_with_masked_class_9: 0.0051 - val_precision_with_masked_class_9: 0.3780\n",
            "Epoch 40/1000\n",
            "469/469 [==============================] - 5s 11ms/step - loss: -0.6101 - binary_accuracy: 0.9533 - auc_with_masked_class_9: 0.8395 - recall_with_masked_class_9: 0.0147 - precision_with_masked_class_9: 0.3682 - val_loss: -0.4741 - val_binary_accuracy: 0.9467 - val_auc_with_masked_class_9: 0.7725 - val_recall_with_masked_class_9: 0.0063 - val_precision_with_masked_class_9: 0.3044\n",
            "Epoch 41/1000\n",
            "469/469 [==============================] - 5s 11ms/step - loss: -0.5934 - binary_accuracy: 0.9537 - auc_with_masked_class_9: 0.8412 - recall_with_masked_class_9: 0.0131 - precision_with_masked_class_9: 0.3660 - val_loss: -0.4180 - val_binary_accuracy: 0.9478 - val_auc_with_masked_class_9: 0.7705 - val_recall_with_masked_class_9: 0.0067 - val_precision_with_masked_class_9: 0.4027\n",
            "Epoch 42/1000\n",
            "469/469 [==============================] - 5s 11ms/step - loss: -0.6192 - binary_accuracy: 0.9528 - auc_with_masked_class_9: 0.8407 - recall_with_masked_class_9: 0.0151 - precision_with_masked_class_9: 0.3577 - val_loss: -0.5007 - val_binary_accuracy: 0.9470 - val_auc_with_masked_class_9: 0.7931 - val_recall_with_masked_class_9: 0.0055 - val_precision_with_masked_class_9: 0.3421\n",
            "Epoch 43/1000\n",
            "469/469 [==============================] - 5s 11ms/step - loss: -0.6113 - binary_accuracy: 0.9530 - auc_with_masked_class_9: 0.8402 - recall_with_masked_class_9: 0.0136 - precision_with_masked_class_9: 0.3568 - val_loss: -0.5051 - val_binary_accuracy: 0.9465 - val_auc_with_masked_class_9: 0.7900 - val_recall_with_masked_class_9: 0.0105 - val_precision_with_masked_class_9: 0.3337\n",
            "Epoch 44/1000\n",
            "469/469 [==============================] - 5s 11ms/step - loss: -0.6212 - binary_accuracy: 0.9529 - auc_with_masked_class_9: 0.8454 - recall_with_masked_class_9: 0.0150 - precision_with_masked_class_9: 0.3594 - val_loss: -0.5343 - val_binary_accuracy: 0.9468 - val_auc_with_masked_class_9: 0.8015 - val_recall_with_masked_class_9: 0.0029 - val_precision_with_masked_class_9: 0.3739\n",
            "Epoch 45/1000\n",
            "469/469 [==============================] - 5s 11ms/step - loss: -0.6120 - binary_accuracy: 0.9533 - auc_with_masked_class_9: 0.8473 - recall_with_masked_class_9: 0.0104 - precision_with_masked_class_9: 0.3670 - val_loss: -0.4538 - val_binary_accuracy: 0.9477 - val_auc_with_masked_class_9: 0.7721 - val_recall_with_masked_class_9: 0.0030 - val_precision_with_masked_class_9: 0.4793\n",
            "Epoch 46/1000\n",
            "469/469 [==============================] - 5s 11ms/step - loss: -0.6263 - binary_accuracy: 0.9529 - auc_with_masked_class_9: 0.8458 - recall_with_masked_class_9: 0.0141 - precision_with_masked_class_9: 0.3786 - val_loss: -0.4854 - val_binary_accuracy: 0.9472 - val_auc_with_masked_class_9: 0.7903 - val_recall_with_masked_class_9: 0.0065 - val_precision_with_masked_class_9: 0.3065\n",
            "Epoch 47/1000\n",
            "469/469 [==============================] - 5s 11ms/step - loss: -0.6263 - binary_accuracy: 0.9529 - auc_with_masked_class_9: 0.8479 - recall_with_masked_class_9: 0.0153 - precision_with_masked_class_9: 0.3651 - val_loss: -0.4881 - val_binary_accuracy: 0.9479 - val_auc_with_masked_class_9: 0.7991 - val_recall_with_masked_class_9: 0.0039 - val_precision_with_masked_class_9: 0.3430\n",
            "Epoch 48/1000\n",
            "469/469 [==============================] - 5s 11ms/step - loss: -0.6154 - binary_accuracy: 0.9538 - auc_with_masked_class_9: 0.8492 - recall_with_masked_class_9: 0.0130 - precision_with_masked_class_9: 0.3864 - val_loss: -0.3887 - val_binary_accuracy: 0.9474 - val_auc_with_masked_class_9: 0.7783 - val_recall_with_masked_class_9: 0.0073 - val_precision_with_masked_class_9: 0.3130\n",
            "Epoch 49/1000\n",
            "469/469 [==============================] - 5s 11ms/step - loss: -0.6242 - binary_accuracy: 0.9531 - auc_with_masked_class_9: 0.8471 - recall_with_masked_class_9: 0.0134 - precision_with_masked_class_9: 0.3740 - val_loss: -0.4801 - val_binary_accuracy: 0.9481 - val_auc_with_masked_class_9: 0.7991 - val_recall_with_masked_class_9: 0.0054 - val_precision_with_masked_class_9: 0.3921\n",
            "Epoch 50/1000\n",
            "469/469 [==============================] - 5s 11ms/step - loss: -0.6316 - binary_accuracy: 0.9531 - auc_with_masked_class_9: 0.8483 - recall_with_masked_class_9: 0.0149 - precision_with_masked_class_9: 0.3917 - val_loss: -0.4803 - val_binary_accuracy: 0.9481 - val_auc_with_masked_class_9: 0.7811 - val_recall_with_masked_class_9: 0.0097 - val_precision_with_masked_class_9: 0.3772\n",
            "Epoch 51/1000\n",
            "469/469 [==============================] - 6s 12ms/step - loss: -0.6108 - binary_accuracy: 0.9534 - auc_with_masked_class_9: 0.8495 - recall_with_masked_class_9: 0.0155 - precision_with_masked_class_9: 0.3754 - val_loss: -0.3966 - val_binary_accuracy: 0.9472 - val_auc_with_masked_class_9: 0.7581 - val_recall_with_masked_class_9: 0.0074 - val_precision_with_masked_class_9: 0.3254\n",
            "Epoch 52/1000\n",
            "469/469 [==============================] - 5s 11ms/step - loss: -0.6586 - binary_accuracy: 0.9527 - auc_with_masked_class_9: 0.8492 - recall_with_masked_class_9: 0.0157 - precision_with_masked_class_9: 0.3750 - val_loss: -0.4845 - val_binary_accuracy: 0.9471 - val_auc_with_masked_class_9: 0.7815 - val_recall_with_masked_class_9: 0.0055 - val_precision_with_masked_class_9: 0.3401\n",
            "Epoch 53/1000\n",
            "469/469 [==============================] - 5s 11ms/step - loss: -0.6477 - binary_accuracy: 0.9526 - auc_with_masked_class_9: 0.8521 - recall_with_masked_class_9: 0.0127 - precision_with_masked_class_9: 0.3859 - val_loss: -0.5047 - val_binary_accuracy: 0.9473 - val_auc_with_masked_class_9: 0.7946 - val_recall_with_masked_class_9: 0.0058 - val_precision_with_masked_class_9: 0.3757\n",
            "Epoch 54/1000\n",
            "469/469 [==============================] - 5s 11ms/step - loss: -0.6275 - binary_accuracy: 0.9532 - auc_with_masked_class_9: 0.8516 - recall_with_masked_class_9: 0.0125 - precision_with_masked_class_9: 0.3740 - val_loss: -0.4580 - val_binary_accuracy: 0.9473 - val_auc_with_masked_class_9: 0.7693 - val_recall_with_masked_class_9: 0.0101 - val_precision_with_masked_class_9: 0.3331\n",
            "Epoch 55/1000\n",
            "469/469 [==============================] - 5s 11ms/step - loss: -0.6206 - binary_accuracy: 0.9535 - auc_with_masked_class_9: 0.8527 - recall_with_masked_class_9: 0.0127 - precision_with_masked_class_9: 0.3710 - val_loss: -0.4989 - val_binary_accuracy: 0.9464 - val_auc_with_masked_class_9: 0.7918 - val_recall_with_masked_class_9: 0.0076 - val_precision_with_masked_class_9: 0.3462\n",
            "Epoch 56/1000\n",
            "469/469 [==============================] - 5s 11ms/step - loss: -0.6348 - binary_accuracy: 0.9529 - auc_with_masked_class_9: 0.8539 - recall_with_masked_class_9: 0.0134 - precision_with_masked_class_9: 0.3885 - val_loss: -0.4537 - val_binary_accuracy: 0.9471 - val_auc_with_masked_class_9: 0.7766 - val_recall_with_masked_class_9: 0.0136 - val_precision_with_masked_class_9: 0.3669\n",
            "Epoch 57/1000\n",
            "469/469 [==============================] - 5s 11ms/step - loss: -0.6330 - binary_accuracy: 0.9533 - auc_with_masked_class_9: 0.8488 - recall_with_masked_class_9: 0.0178 - precision_with_masked_class_9: 0.3748 - val_loss: -0.4541 - val_binary_accuracy: 0.9470 - val_auc_with_masked_class_9: 0.7848 - val_recall_with_masked_class_9: 0.0127 - val_precision_with_masked_class_9: 0.3479\n",
            "Epoch 58/1000\n",
            "469/469 [==============================] - 5s 11ms/step - loss: -0.6380 - binary_accuracy: 0.9534 - auc_with_masked_class_9: 0.8535 - recall_with_masked_class_9: 0.0132 - precision_with_masked_class_9: 0.3794 - val_loss: -0.4688 - val_binary_accuracy: 0.9463 - val_auc_with_masked_class_9: 0.7898 - val_recall_with_masked_class_9: 0.0050 - val_precision_with_masked_class_9: 0.3806\n",
            "Epoch 59/1000\n",
            "469/469 [==============================] - 5s 11ms/step - loss: -0.6628 - binary_accuracy: 0.9524 - auc_with_masked_class_9: 0.8570 - recall_with_masked_class_9: 0.0124 - precision_with_masked_class_9: 0.3937 - val_loss: -0.4553 - val_binary_accuracy: 0.9471 - val_auc_with_masked_class_9: 0.7743 - val_recall_with_masked_class_9: 0.0093 - val_precision_with_masked_class_9: 0.3602\n",
            "Epoch 60/1000\n",
            "469/469 [==============================] - 5s 11ms/step - loss: -0.6399 - binary_accuracy: 0.9535 - auc_with_masked_class_9: 0.8549 - recall_with_masked_class_9: 0.0131 - precision_with_masked_class_9: 0.3952 - val_loss: -0.4302 - val_binary_accuracy: 0.9474 - val_auc_with_masked_class_9: 0.7695 - val_recall_with_masked_class_9: 0.0063 - val_precision_with_masked_class_9: 0.3735\n",
            "Epoch 61/1000\n",
            "469/469 [==============================] - 5s 11ms/step - loss: -0.6560 - binary_accuracy: 0.9531 - auc_with_masked_class_9: 0.8539 - recall_with_masked_class_9: 0.0130 - precision_with_masked_class_9: 0.3801 - val_loss: -0.4699 - val_binary_accuracy: 0.9478 - val_auc_with_masked_class_9: 0.7896 - val_recall_with_masked_class_9: 0.0074 - val_precision_with_masked_class_9: 0.3649\n",
            "Epoch 62/1000\n",
            "469/469 [==============================] - 5s 11ms/step - loss: -0.6363 - binary_accuracy: 0.9535 - auc_with_masked_class_9: 0.8571 - recall_with_masked_class_9: 0.0125 - precision_with_masked_class_9: 0.3974 - val_loss: -0.4792 - val_binary_accuracy: 0.9466 - val_auc_with_masked_class_9: 0.7922 - val_recall_with_masked_class_9: 0.0087 - val_precision_with_masked_class_9: 0.3889\n",
            "Epoch 63/1000\n",
            "469/469 [==============================] - 5s 11ms/step - loss: -0.6229 - binary_accuracy: 0.9533 - auc_with_masked_class_9: 0.8552 - recall_with_masked_class_9: 0.0126 - precision_with_masked_class_9: 0.4013 - val_loss: -0.4737 - val_binary_accuracy: 0.9476 - val_auc_with_masked_class_9: 0.7897 - val_recall_with_masked_class_9: 0.0067 - val_precision_with_masked_class_9: 0.4138\n",
            "Epoch 64/1000\n",
            "469/469 [==============================] - 5s 11ms/step - loss: -0.6443 - binary_accuracy: 0.9531 - auc_with_masked_class_9: 0.8562 - recall_with_masked_class_9: 0.0146 - precision_with_masked_class_9: 0.3990 - val_loss: -0.5003 - val_binary_accuracy: 0.9471 - val_auc_with_masked_class_9: 0.7786 - val_recall_with_masked_class_9: 0.0092 - val_precision_with_masked_class_9: 0.3928\n",
            "Epoch 65/1000\n",
            "469/469 [==============================] - 5s 11ms/step - loss: -0.6517 - binary_accuracy: 0.9529 - auc_with_masked_class_9: 0.8571 - recall_with_masked_class_9: 0.0148 - precision_with_masked_class_9: 0.3972 - val_loss: -0.4952 - val_binary_accuracy: 0.9470 - val_auc_with_masked_class_9: 0.7821 - val_recall_with_masked_class_9: 0.0064 - val_precision_with_masked_class_9: 0.3546\n",
            "Epoch 66/1000\n",
            "469/469 [==============================] - 5s 11ms/step - loss: -0.6537 - binary_accuracy: 0.9528 - auc_with_masked_class_9: 0.8569 - recall_with_masked_class_9: 0.0140 - precision_with_masked_class_9: 0.3837 - val_loss: -0.4650 - val_binary_accuracy: 0.9470 - val_auc_with_masked_class_9: 0.7815 - val_recall_with_masked_class_9: 0.0114 - val_precision_with_masked_class_9: 0.4029\n",
            "Epoch 67/1000\n",
            "469/469 [==============================] - 5s 11ms/step - loss: -0.6517 - binary_accuracy: 0.9534 - auc_with_masked_class_9: 0.8615 - recall_with_masked_class_9: 0.0155 - precision_with_masked_class_9: 0.4168 - val_loss: -0.4430 - val_binary_accuracy: 0.9474 - val_auc_with_masked_class_9: 0.7818 - val_recall_with_masked_class_9: 0.0043 - val_precision_with_masked_class_9: 0.3311\n",
            "Epoch 68/1000\n",
            "469/469 [==============================] - 5s 11ms/step - loss: -0.6535 - binary_accuracy: 0.9533 - auc_with_masked_class_9: 0.8578 - recall_with_masked_class_9: 0.0128 - precision_with_masked_class_9: 0.4124 - val_loss: -0.4730 - val_binary_accuracy: 0.9471 - val_auc_with_masked_class_9: 0.7917 - val_recall_with_masked_class_9: 0.0081 - val_precision_with_masked_class_9: 0.3854\n",
            "Epoch 69/1000\n",
            "469/469 [==============================] - 5s 11ms/step - loss: -0.6557 - binary_accuracy: 0.9530 - auc_with_masked_class_9: 0.8575 - recall_with_masked_class_9: 0.0167 - precision_with_masked_class_9: 0.4065 - val_loss: -0.4836 - val_binary_accuracy: 0.9468 - val_auc_with_masked_class_9: 0.7825 - val_recall_with_masked_class_9: 0.0072 - val_precision_with_masked_class_9: 0.4010\n",
            "Epoch 70/1000\n",
            "469/469 [==============================] - 5s 11ms/step - loss: -0.6461 - binary_accuracy: 0.9533 - auc_with_masked_class_9: 0.8630 - recall_with_masked_class_9: 0.0126 - precision_with_masked_class_9: 0.3854 - val_loss: -0.4872 - val_binary_accuracy: 0.9477 - val_auc_with_masked_class_9: 0.7942 - val_recall_with_masked_class_9: 0.0062 - val_precision_with_masked_class_9: 0.3969\n",
            "Epoch 71/1000\n",
            "469/469 [==============================] - 5s 11ms/step - loss: -0.6470 - binary_accuracy: 0.9532 - auc_with_masked_class_9: 0.8614 - recall_with_masked_class_9: 0.0144 - precision_with_masked_class_9: 0.4227 - val_loss: -0.4252 - val_binary_accuracy: 0.9469 - val_auc_with_masked_class_9: 0.7814 - val_recall_with_masked_class_9: 0.0107 - val_precision_with_masked_class_9: 0.3663\n",
            "Epoch 72/1000\n",
            "469/469 [==============================] - 5s 11ms/step - loss: -0.6435 - binary_accuracy: 0.9530 - auc_with_masked_class_9: 0.8574 - recall_with_masked_class_9: 0.0154 - precision_with_masked_class_9: 0.3985 - val_loss: -0.4794 - val_binary_accuracy: 0.9469 - val_auc_with_masked_class_9: 0.7815 - val_recall_with_masked_class_9: 0.0091 - val_precision_with_masked_class_9: 0.4381\n",
            "Epoch 73/1000\n",
            "469/469 [==============================] - 5s 11ms/step - loss: -0.6570 - binary_accuracy: 0.9534 - auc_with_masked_class_9: 0.8639 - recall_with_masked_class_9: 0.0123 - precision_with_masked_class_9: 0.4064 - val_loss: -0.4368 - val_binary_accuracy: 0.9481 - val_auc_with_masked_class_9: 0.7789 - val_recall_with_masked_class_9: 0.0097 - val_precision_with_masked_class_9: 0.4026\n",
            "Epoch 74/1000\n",
            "469/469 [==============================] - 5s 11ms/step - loss: -0.6668 - binary_accuracy: 0.9529 - auc_with_masked_class_9: 0.8645 - recall_with_masked_class_9: 0.0130 - precision_with_masked_class_9: 0.4052 - val_loss: -0.4368 - val_binary_accuracy: 0.9468 - val_auc_with_masked_class_9: 0.7694 - val_recall_with_masked_class_9: 0.0107 - val_precision_with_masked_class_9: 0.3748\n",
            "Epoch 75/1000\n",
            "469/469 [==============================] - 6s 12ms/step - loss: -0.6635 - binary_accuracy: 0.9529 - auc_with_masked_class_9: 0.8618 - recall_with_masked_class_9: 0.0139 - precision_with_masked_class_9: 0.4060 - val_loss: -0.4349 - val_binary_accuracy: 0.9467 - val_auc_with_masked_class_9: 0.7586 - val_recall_with_masked_class_9: 0.0096 - val_precision_with_masked_class_9: 0.4239\n",
            "Epoch 76/1000\n",
            "469/469 [==============================] - 5s 11ms/step - loss: -0.6649 - binary_accuracy: 0.9533 - auc_with_masked_class_9: 0.8633 - recall_with_masked_class_9: 0.0122 - precision_with_masked_class_9: 0.4045 - val_loss: -0.4745 - val_binary_accuracy: 0.9465 - val_auc_with_masked_class_9: 0.7919 - val_recall_with_masked_class_9: 0.0065 - val_precision_with_masked_class_9: 0.3506\n",
            "Epoch 77/1000\n",
            "469/469 [==============================] - 5s 11ms/step - loss: -0.6626 - binary_accuracy: 0.9527 - auc_with_masked_class_9: 0.8641 - recall_with_masked_class_9: 0.0128 - precision_with_masked_class_9: 0.3987 - val_loss: -0.4260 - val_binary_accuracy: 0.9483 - val_auc_with_masked_class_9: 0.7737 - val_recall_with_masked_class_9: 0.0108 - val_precision_with_masked_class_9: 0.4226\n",
            "Epoch 78/1000\n",
            "469/469 [==============================] - 5s 11ms/step - loss: -0.6597 - binary_accuracy: 0.9529 - auc_with_masked_class_9: 0.8660 - recall_with_masked_class_9: 0.0130 - precision_with_masked_class_9: 0.4218 - val_loss: -0.4201 - val_binary_accuracy: 0.9463 - val_auc_with_masked_class_9: 0.7620 - val_recall_with_masked_class_9: 0.0156 - val_precision_with_masked_class_9: 0.3730\n",
            "Epoch 79/1000\n",
            "469/469 [==============================] - 5s 11ms/step - loss: -0.6531 - binary_accuracy: 0.9535 - auc_with_masked_class_9: 0.8646 - recall_with_masked_class_9: 0.0142 - precision_with_masked_class_9: 0.4174 - val_loss: -0.4703 - val_binary_accuracy: 0.9465 - val_auc_with_masked_class_9: 0.7725 - val_recall_with_masked_class_9: 0.0094 - val_precision_with_masked_class_9: 0.3589\n",
            "Epoch 80/1000\n",
            "469/469 [==============================] - 5s 11ms/step - loss: -0.6698 - binary_accuracy: 0.9528 - auc_with_masked_class_9: 0.8645 - recall_with_masked_class_9: 0.0157 - precision_with_masked_class_9: 0.4278 - val_loss: -0.4865 - val_binary_accuracy: 0.9470 - val_auc_with_masked_class_9: 0.7984 - val_recall_with_masked_class_9: 0.0109 - val_precision_with_masked_class_9: 0.3469\n",
            "Epoch 81/1000\n",
            "469/469 [==============================] - 5s 11ms/step - loss: -0.6572 - binary_accuracy: 0.9534 - auc_with_masked_class_9: 0.8652 - recall_with_masked_class_9: 0.0137 - precision_with_masked_class_9: 0.4202 - val_loss: -0.4334 - val_binary_accuracy: 0.9473 - val_auc_with_masked_class_9: 0.7748 - val_recall_with_masked_class_9: 0.0066 - val_precision_with_masked_class_9: 0.3748\n",
            "Epoch 82/1000\n",
            "247/469 [==============>...............] - ETA: 2s - loss: -0.6140 - binary_accuracy: 0.9529 - auc_with_masked_class_9: 0.8636 - recall_with_masked_class_9: 0.0165 - precision_with_masked_class_9: 0.4047"
          ]
        }
      ],
      "source": [
        "from tensorflow.keras.callbacks import EarlyStopping, ModelCheckpoint\n",
        "\n",
        "\n",
        "# Train the model\n",
        "EPOCHS = 1000  # Adjust as needed\n",
        "\n",
        "best_model_exporter = BestModelExporter(\n",
        "    metric_key='val_loss',  # Choose the metric to monitor (e.g., 'val_accuracy', 'val_loss')\n",
        "    mode='min',            # 'min' for minimizing the metric, 'max' for maximizing\n",
        "    output_dir=model_save_path # Directory to save the best model\n",
        ")\n",
        "\n",
        "early_stopper = EarlyStopping(\n",
        "    monitor='val_loss',  # Metric to monitor (can be 'val_auc', 'val_accuracy', etc.)\n",
        "    patience=100,         # Number of epochs with no improvement after which training will be stopped\n",
        "    restore_best_weights=True,  # Restore model weights from the epoch with the best value of the monitored metric\n",
        "    mode='min'           # 'min' for minimizing the metric, 'max' for maximizing\n",
        ")\n",
        "\n",
        "cnn_model = tuner.hypermodel.build(best_hps)\n",
        "history = cnn_model.fit(\n",
        "    train_dataset,\n",
        "    validation_data=(val_dataset),\n",
        "    epochs=EPOCHS,\n",
        "    callbacks=[best_model_exporter,early_stopper] # Pass the instance to callbacks\n",
        ")\n"
      ]
    },
    {
      "cell_type": "code",
      "execution_count": null,
      "metadata": {
        "id": "j7-ffwtm0qwF"
      },
      "outputs": [],
      "source": [
        "# Post-processing to generate the future burn map\n",
        "threshold = 0.8  # This is experimentally set as per your methodology\n",
        "\n",
        "def post_process(predictions, threshold=0.8):\n",
        "    # Apply threshold to convert probabilities to binary burn map\n",
        "    burn_map = (predictions > threshold).astype(np.int32)\n",
        "    return burn_map\n",
        "predictions = cnn_model.predict(test_inputs)\n",
        "burn_map_cnn = post_process(predictions)"
      ]
    },
    {
      "cell_type": "code",
      "execution_count": null,
      "metadata": {
        "id": "481zaHSS04WK"
      },
      "outputs": [],
      "source": [
        "from sklearn.metrics import f1_score, precision_score, recall_score, accuracy_score\n",
        "import numpy as np\n",
        "\n",
        "y_test = test_labels.numpy()\n",
        "\n",
        "# Get the original shape of burn_map\n",
        "original_shape = burn_map_cnn.shape\n",
        "\n",
        "# Print the original shape of burn_map for debugging\n",
        "print(\"Original shape of burn_map:\", original_shape)\n",
        "\n",
        "# Reshape burn_map to a 2D array with the number of samples in the first dimension\n",
        "burn_map_cnn = burn_map_cnn.reshape(burn_map_cnn.shape[0], -1)  # -1 infers the remaining dimensions\n",
        "\n",
        "# Reshape burn_map to have the same number of samples as y_test\n",
        "burn_map_cnn = burn_map_cnn.reshape(y_test.shape[0], -1)  # -1 infers the remaining dimensions\n",
        "\n",
        "# Print the shape of burn_map and y_test for debugging\n",
        "print(\"Shape of burn_map after reshape:\", burn_map_cnn.shape)\n",
        "print(\"Shape of y_test:\", y_test.shape)\n",
        "\n",
        "# Reshape burn_map to match the number of samples in y_test\n",
        "# burn_map = burn_map.reshape(y_test.shape[0])  # Assuming y_test is 1D\n",
        "\n",
        "# Flattening predictions and labels for metric calculation\n",
        "y_true = y_test.flatten()\n",
        "y_pred = burn_map_cnn.flatten()\n",
        "\n",
        "# Calculate metrics\n",
        "precision = precision_score(y_true, y_pred, average='weighted') # or 'micro', 'macro'\n",
        "recall = recall_score(y_true, y_pred, average='weighted')  # or 'micro', 'macro'\n",
        "f1 = f1_score(y_true, y_pred, average='weighted')      # or 'micro', 'macro'\n",
        "overall_accuracy = accuracy_score(y_true, y_pred)\n",
        "\n",
        "print(f\"Precision: {precision}\")\n",
        "print(f\"Recall: {recall}\")\n",
        "print(f\"F1-Score: {f1}\")\n",
        "print(f\"Overall Accuracy: {overall_accuracy}\")"
      ]
    },
    {
      "cell_type": "code",
      "execution_count": null,
      "metadata": {
        "id": "jdLZIV129OYC"
      },
      "outputs": [],
      "source": [
        "# prompt: load best_model_cnn.h5 and do the feature extraction with a regex for flatten_<any nuber>, only one flatten layer\n",
        "\n",
        "import tensorflow as tf\n",
        "from tensorflow import keras\n",
        "\n",
        "# Load the model\n",
        "# model = keras.models.load_model('/content/cnn_model.h5', compile=False)\n",
        "model = keras.models.load_model(model_save_path+'/best_model.h5', compile=False)\n",
        "\n",
        "\n",
        "\n",
        "# Find the flatten layer\n",
        "flatten_layer = None\n",
        "for layer in model.layers:\n",
        "    if re.match(r'flatten_\\d+', layer.name):\n",
        "        flatten_layer = layer\n",
        "        break\n",
        "def feature_extraction(inputs):\n",
        "  if flatten_layer:\n",
        "      # Create a new model that outputs the flatten layer's activations\n",
        "      feature_extraction_model = keras.Model(inputs=model.input, outputs=flatten_layer.output)\n",
        "\n",
        "      # Example usage: extract features from some input data\n",
        "      # Assuming 'test_inputs' is your input data\n",
        "      features = feature_extraction_model.predict(inputs)\n",
        "      print(features.shape)\n",
        "  else:\n",
        "      print(\"No flatten layer found matching the regex.\")\n",
        "  return features"
      ]
    },
    {
      "cell_type": "code",
      "execution_count": null,
      "metadata": {
        "id": "j2_y8yG-vO9t"
      },
      "outputs": [],
      "source": [
        "import numpy as np\n",
        "from sklearn.discriminant_analysis import LinearDiscriminantAnalysis\n",
        "\n",
        "def extract_top_features(train_data, train_labels, num_top_features=64):\n",
        "    \"\"\"\n",
        "    Extract top features from the last convolutional layer using LDA.\n",
        "\n",
        "    Parameters:\n",
        "        train_data (np.ndarray): The extracted features from the convolutional layer.\n",
        "        train_labels (np.ndarray): Corresponding labels for the training data.\n",
        "        num_top_features (int): Number of top features to extract based on importance.\n",
        "\n",
        "    Returns:\n",
        "        np.ndarray: Array of top features after LDA transformation.\n",
        "    \"\"\"\n",
        "\n",
        "    features=feature_extraction(train_data)\n",
        "    n_samples = features.shape[0]\n",
        "    reshaped_features = features.reshape(n_samples, -1)\n",
        "\n",
        "    # Reshape the labels to match the number of feature samples\n",
        "    train_labels_reshaped = train_labels.numpy().reshape(n_samples, -1)\n",
        "    train_labels_reshaped = np.clip(train_labels_reshaped, 0, None)\n",
        "\n",
        "    # Flatten and take the most frequent label for each sample\n",
        "    train_labels_1d = [np.bincount(x.astype(int)).argmax() for x in train_labels_reshaped]\n",
        "\n",
        "    # Perform LDA\n",
        "    lda = LinearDiscriminantAnalysis()\n",
        "    lda.fit(reshaped_features, train_labels_1d)\n",
        "\n",
        "    # Get the transformed features (lower dimensionality)\n",
        "    transformed_features = lda.transform(reshaped_features)\n",
        "\n",
        "    # Access the importance of features (coefficients)\n",
        "    feature_importance = np.abs(lda.coef_)\n",
        "\n",
        "    # Find the indices of the most important features\n",
        "    top_feature_indices = np.argsort(feature_importance)[::-1][:, :num_top_features]\n",
        "\n",
        "    # Extract the top features from the original feature map\n",
        "    top_features = reshaped_features[:, top_feature_indices[0]]\n",
        "\n",
        "    return top_features\n",
        "\n",
        "\n"
      ]
    },
    {
      "cell_type": "code",
      "execution_count": null,
      "metadata": {
        "id": "eyofekAKo0YP"
      },
      "outputs": [],
      "source": [
        "# Example usage:\n",
        "train_top_features = extract_top_features(train_inputs,labels,10)\n",
        "print(\"Shape of the top features:\", train_top_features.shape)"
      ]
    },
    {
      "cell_type": "code",
      "execution_count": null,
      "metadata": {
        "id": "8-oHEX6oHoWx"
      },
      "outputs": [],
      "source": [
        "import numpy as np\n",
        "\n",
        "# Assuming 'train_top_features' is already calculated as in your code\n",
        "\n",
        "# Save the top features to a file in Google Drive\n",
        "np.save('/content/drive/My Drive/top_feature/train_top_features.npy', train_top_features)\n",
        "\n",
        "print(\"Top features saved to /content/drive/My Drive/train_top_features.npy\")"
      ]
    },
    {
      "cell_type": "code",
      "execution_count": null,
      "metadata": {
        "id": "XjxiAM0Wz5-5"
      },
      "outputs": [],
      "source": [
        "val_top_features =extract_top_features(val_inputs,val_labels,10)\n",
        "print(\"Shape of the top features:\", val_top_features.shape)"
      ]
    },
    {
      "cell_type": "code",
      "execution_count": null,
      "metadata": {
        "id": "PEcdEBEIH7L_"
      },
      "outputs": [],
      "source": [
        "np.save('/content/drive/My Drive/top_feature/val_top_features.npy', val_top_features)\n",
        "\n",
        "print(\"Top features saved to /content/drive/My Drive/val_top_features.npy\")"
      ]
    },
    {
      "cell_type": "code",
      "execution_count": null,
      "metadata": {
        "id": "4J47-oN-SS8b"
      },
      "outputs": [],
      "source": [
        "# Example usage:\n",
        "test_top_features = extract_top_features(test_inputs,test_labels,10)\n",
        "print(\"Shape of the top features:\", test_top_features.shape)"
      ]
    },
    {
      "cell_type": "code",
      "execution_count": null,
      "metadata": {
        "id": "XSObkFpE4VN0"
      },
      "outputs": [],
      "source": [
        "np.save('/content/drive/My Drive/top_feature/test_top_features.npy', test_top_features)\n",
        "\n",
        "print(\"Top features saved to /content/drive/My Drive/test_top_features.npy\")"
      ]
    },
    {
      "cell_type": "code",
      "execution_count": null,
      "metadata": {
        "colab": {
          "base_uri": "https://localhost:8080/"
        },
        "id": "QhiduqNVw81K",
        "outputId": "6ab8b6e8-cc71-4130-a10c-9e13d799fbad"
      },
      "outputs": [
        {
          "name": "stdout",
          "output_type": "stream",
          "text": [
            "Collecting ncps\n",
            "  Downloading ncps-1.0.1-py3-none-any.whl.metadata (702 bytes)\n",
            "Requirement already satisfied: future in /usr/local/lib/python3.10/dist-packages (from ncps) (1.0.0)\n",
            "Requirement already satisfied: packaging in /usr/local/lib/python3.10/dist-packages (from ncps) (24.1)\n",
            "Downloading ncps-1.0.1-py3-none-any.whl (60 kB)\n",
            "\u001b[?25l   \u001b[90m━━━━━━━━━━━━━━━━━━━━━━━━━━━━━━━━━━━━━━━━\u001b[0m \u001b[32m0.0/60.3 kB\u001b[0m \u001b[31m?\u001b[0m eta \u001b[36m-:--:--\u001b[0m\r\u001b[2K   \u001b[90m━━━━━━━━━━━━━━━━━━━━━━━━━━━━━━━━━━━━━━━━\u001b[0m \u001b[32m60.3/60.3 kB\u001b[0m \u001b[31m4.5 MB/s\u001b[0m eta \u001b[36m0:00:00\u001b[0m\n",
            "\u001b[?25hInstalling collected packages: ncps\n",
            "Successfully installed ncps-1.0.1\n"
          ]
        }
      ],
      "source": [
        "!pip install ncps"
      ]
    },
    {
      "cell_type": "code",
      "execution_count": null,
      "metadata": {
        "colab": {
          "base_uri": "https://localhost:8080/",
          "height": 162
        },
        "id": "6NYGnh6UIIE7",
        "outputId": "f05fb36f-a640-4d16-a34c-ebbb26190b5b"
      },
      "outputs": [
        {
          "ename": "NameError",
          "evalue": "name 'np' is not defined",
          "output_type": "error",
          "traceback": [
            "\u001b[0;31m---------------------------------------------------------------------------\u001b[0m",
            "\u001b[0;31mNameError\u001b[0m                                 Traceback (most recent call last)",
            "\u001b[0;32m<ipython-input-3-8a55965289e5>\u001b[0m in \u001b[0;36m<cell line: 1>\u001b[0;34m()\u001b[0m\n\u001b[0;32m----> 1\u001b[0;31m \u001b[0mX_train\u001b[0m \u001b[0;34m=\u001b[0m \u001b[0mnp\u001b[0m\u001b[0;34m.\u001b[0m\u001b[0mload\u001b[0m\u001b[0;34m(\u001b[0m\u001b[0;34m\"/content/drive/My Drive/top_feature/train_top_features.npy\"\u001b[0m\u001b[0;34m)\u001b[0m\u001b[0;34m\u001b[0m\u001b[0;34m\u001b[0m\u001b[0m\n\u001b[0m\u001b[1;32m      2\u001b[0m \u001b[0mX_val\u001b[0m \u001b[0;34m=\u001b[0m \u001b[0mnp\u001b[0m\u001b[0;34m.\u001b[0m\u001b[0mload\u001b[0m\u001b[0;34m(\u001b[0m\u001b[0;34m\"/content/drive/My Drive/top_feature/val_top_features.npy\"\u001b[0m\u001b[0;34m)\u001b[0m\u001b[0;34m\u001b[0m\u001b[0;34m\u001b[0m\u001b[0m\n",
            "\u001b[0;31mNameError\u001b[0m: name 'np' is not defined"
          ]
        }
      ],
      "source": [
        "X_train = np.load(\"/content/drive/My Drive/top_feature/train_top_features.npy\")\n",
        "X_val = np.load(\"/content/drive/My Drive/top_feature/val_top_features.npy\")"
      ]
    },
    {
      "cell_type": "code",
      "execution_count": null,
      "metadata": {
        "colab": {
          "base_uri": "https://localhost:8080/",
          "height": 393
        },
        "id": "_FOc9F6ItP4v",
        "outputId": "3791a691-fdfe-432c-fd0d-9d604783afb6"
      },
      "outputs": [
        {
          "ename": "ModuleNotFoundError",
          "evalue": "No module named 'ncps'",
          "output_type": "error",
          "traceback": [
            "\u001b[0;31m---------------------------------------------------------------------------\u001b[0m",
            "\u001b[0;31mModuleNotFoundError\u001b[0m                       Traceback (most recent call last)",
            "\u001b[0;32m<ipython-input-1-74e182b0af70>\u001b[0m in \u001b[0;36m<cell line: 4>\u001b[0;34m()\u001b[0m\n\u001b[1;32m      2\u001b[0m \u001b[0;32mfrom\u001b[0m \u001b[0mtensorflow\u001b[0m \u001b[0;32mimport\u001b[0m \u001b[0mkeras\u001b[0m\u001b[0;34m\u001b[0m\u001b[0;34m\u001b[0m\u001b[0m\n\u001b[1;32m      3\u001b[0m \u001b[0;32mfrom\u001b[0m \u001b[0mtensorflow\u001b[0m\u001b[0;34m.\u001b[0m\u001b[0mkeras\u001b[0m \u001b[0;32mimport\u001b[0m \u001b[0mmodels\u001b[0m\u001b[0;34m,\u001b[0m \u001b[0mlayers\u001b[0m\u001b[0;34m\u001b[0m\u001b[0;34m\u001b[0m\u001b[0m\n\u001b[0;32m----> 4\u001b[0;31m \u001b[0;32mfrom\u001b[0m \u001b[0mncps\u001b[0m\u001b[0;34m.\u001b[0m\u001b[0mwirings\u001b[0m \u001b[0;32mimport\u001b[0m \u001b[0mAutoNCP\u001b[0m\u001b[0;34m\u001b[0m\u001b[0;34m\u001b[0m\u001b[0m\n\u001b[0m\u001b[1;32m      5\u001b[0m \u001b[0;32mfrom\u001b[0m \u001b[0mncps\u001b[0m\u001b[0;34m.\u001b[0m\u001b[0mtf\u001b[0m \u001b[0;32mimport\u001b[0m \u001b[0mCfC\u001b[0m\u001b[0;34m\u001b[0m\u001b[0;34m\u001b[0m\u001b[0m\n\u001b[1;32m      6\u001b[0m \u001b[0;32mfrom\u001b[0m \u001b[0mkerastuner\u001b[0m \u001b[0;32mimport\u001b[0m \u001b[0mHyperModel\u001b[0m\u001b[0;34m\u001b[0m\u001b[0;34m\u001b[0m\u001b[0m\n",
            "\u001b[0;31mModuleNotFoundError\u001b[0m: No module named 'ncps'",
            "",
            "\u001b[0;31m---------------------------------------------------------------------------\u001b[0;32m\nNOTE: If your import is failing due to a missing package, you can\nmanually install dependencies using either !pip or !apt.\n\nTo view examples of installing some common dependencies, click the\n\"Open Examples\" button below.\n\u001b[0;31m---------------------------------------------------------------------------\u001b[0m\n"
          ]
        }
      ],
      "source": [
        "import tensorflow as tf\n",
        "from tensorflow import keras\n",
        "from tensorflow.keras import models, layers\n",
        "from ncps.wirings import AutoNCP\n",
        "from ncps.tf import CfC\n",
        "from kerastuner import HyperModel\n",
        "from kerastuner.tuners import RandomSearch\n",
        "\n",
        "# Define the CFC_CONFIG dictionary for hyperparameter configuration\n",
        "CFC_CONFIG = {\n",
        "    \"ncp_units\": 32,\n",
        "    \"auto_ncp_params\": (128, 32),  # hidden_units, output_units for AutoNCP\n",
        "    \"dense_units\": 32,\n",
        "    \"activation\": 'Softmax',\n",
        "    \"backbone_activation\": \"gelu\",  # Activation function for the backbone\n",
        "    \"backbone_dr\": 0.0,  # Dropout rate for the backbone\n",
        "}\n",
        "\n",
        "class LNNHyperModel(HyperModel):\n",
        "    def build(self, hp):\n",
        "        input_shape = (1, 10)  # Adjust based on your input data shape\n",
        "        ncp_units = CFC_CONFIG[\"ncp_units\"]  # Use the value from CFC_CONFIG\n",
        "\n",
        "        # Dynamically set hyperparameters for AutoNCP\n",
        "        hidden_units = hp.Int('hidden_units', min_value=32, max_value=1024, step=32)\n",
        "        output_units = hp.Int('output_units', min_value=16, max_value=256, step=16)\n",
        "\n",
        "        # Hyperparameter tuning for including or excluding AutoNCP\n",
        "        use_autoncp = hp.Boolean('use_autoncp', default=True)\n",
        "\n",
        "        # Dynamically set hyperparameters\n",
        "        dense_units = 1024\n",
        "        backbone_layers = hp.Int('backbone_layers', min_value=1, max_value=3)\n",
        "        learning_rate = hp.Float('learning_rate', min_value=1e-5, max_value=1e-1, sampling='LOG')\n",
        "\n",
        "        # Hyperparameter tuning for loss function\n",
        "        # loss = hp.Choice('loss', values=['binary_crossentropy', 'categorical_crossentropy'])\n",
        "\n",
        "        model = self.build_LNN_model(input_shape, 32, hidden_units, output_units, backbone_layers, use_autoncp)\n",
        "\n",
        "\n",
        "        optimizer = keras.optimizers.Adam(learning_rate=learning_rate)\n",
        "\n",
        "        loss_fn = lambda y_true, y_pred: weighted_binary_crossentropy(y_true, y_pred, weight=3)\n",
        "        auc=AUCWithMaskedClass()\n",
        "        recall=RecallWithMaskedClass()\n",
        "        precision=PrecisionWithMaskedClass()\n",
        "\n",
        "\n",
        "        model.compile(optimizer=optimizer, loss=loss_fn, metrics=['accuracy',recall,auc,precision])\n",
        "\n",
        "        return model\n",
        "\n",
        "    def build_LNN_model(self, input_shape, ncp_units, hidden_units, output_units, backbone_layers, use_autoncp):\n",
        "        input_layer = keras.Input(shape=input_shape)\n",
        "        x = input_layer  # Assign input_layer to x\n",
        "        x = layers.Reshape((1, 10))(x)\n",
        "\n",
        "        if use_autoncp:\n",
        "            # Use AutoNCP layer\n",
        "            ncp = CfC(ncp_units, AutoNCP(hidden_units, output_units), return_sequences=True, return_state=False)\n",
        "            x = ncp(x) # Pass x to the CfC layer\n",
        "        else:\n",
        "            ncp = CfC(ncp_units, return_sequences=True, return_state=False)\n",
        "            x = ncp(x)\n",
        "\n",
        "        for _ in range(backbone_layers):\n",
        "            x = layers.Dense(32, activation='gelu')(x)\n",
        "\n",
        "        x = layers.Reshape((ncp_units,1))(x) # Reshape x\n",
        "        x = layers.Dense(CFC_CONFIG[\"dense_units\"], activation=CFC_CONFIG[\"activation\"])(x)\n",
        "\n",
        "\n",
        "        # Check output shape before reshaping\n",
        "        x = layers.Reshape((32, 32, 1))(x)\n",
        "\n",
        "        # Use input_layer as the input to the Model\n",
        "        lnn_model = models.Model(inputs=input_layer, outputs=x)\n",
        "        return lnn_model\n",
        "\n",
        "# Instantiate the hypermodel\n",
        "lnn_hypermodel = LNNHyperModel()\n",
        "\n",
        "# Define the tuner\n",
        "tuner = RandomSearch(\n",
        "    lnn_hypermodel,\n",
        "    objective='val_loss',\n",
        "    max_trials=100,\n",
        "    executions_per_trial=1,\n",
        "    directory='/content/drive/MyDrive/hp',\n",
        "    project_name='lnn_tuning'\n",
        ")\n",
        "\n",
        "print(X_train.shape)\n",
        "# Ensure X_train and X_val are defined and properly reshaped\n",
        "train_data = X_train.reshape(32,1, 10)  # Assuming X_train has shape (32, 32, 10)\n",
        "val_data = X_val.reshape(32, 1,10)\n",
        "\n",
        "# Start tuning\n",
        "tuner.search(train_data, labels, epochs=20, validation_data=(val_data, labels_val))\n",
        "\n",
        "# Get the best model\n",
        "best_hp = tuner.get_best_models(num_models=1)[0]\n",
        "\n",
        "# Print the summary of the best model\n",
        "best_hp.summary()\n",
        "\n"
      ]
    },
    {
      "cell_type": "code",
      "execution_count": null,
      "metadata": {
        "id": "xh_bPaVtusCA"
      },
      "outputs": [],
      "source": [
        "best_hps = tuner.get_best_hyperparameters(num_trials=1)[0]\n",
        "\n",
        "print(f\"\"\"\n",
        "The hyperparameter search is complete. The optimal hyperparameters are:\n",
        "learning rate: {best_hps.get('learning_rate')}\n",
        "hidden_units: {best_hps.get('hidden_units')}\n",
        "output_units: {best_hps.get('output_units')}\n",
        "use_autoncp: {best_hps.get('use_autoncp')}\n",
        "backbone_layers: {best_hps.get('backbone_layers')}\n",
        "\"\"\")"
      ]
    },
    {
      "cell_type": "code",
      "execution_count": null,
      "metadata": {
        "id": "KsinY_pFD2L8"
      },
      "outputs": [],
      "source": [
        "from tensorflow.keras.callbacks import EarlyStopping\n",
        "\n",
        "loss_fn = lambda y_true, y_pred: weighted_binary_crossentropy(y_true, y_pred, weight=3)\n",
        "# Train the model\n",
        "EPOCHS = 250  # Adjust as needed\n",
        "\n",
        "best_model_exporter = BestModelExporterLNN(\n",
        "    metric_key='val_loss',  # Choose the metric to monitor (e.g., 'val_accuracy', 'val_loss')\n",
        "    mode='min',            # 'min' for minimizing the metric, 'max' for maximizing\n",
        "    output_dir='/content/drive/MyDrive/models/lln' # Directory to save the best model\n",
        ")\n",
        "\n",
        "early_stopper = EarlyStopping(\n",
        "    monitor='val_loss',  # Metric to monitor (can be 'val_auc', 'val_accuracy', etc.)\n",
        "    patience=10,         # Number of epochs with no improvement after which training will be stopped\n",
        "    restore_best_weights=True,  # Restore model weights from the epoch with the best value of the monitored metric\n",
        "    mode='min'           # 'min' for minimizing the metric, 'max' for maximizing\n",
        ")\n",
        "\n",
        "lnn_model = tuner.hypermodel.build(tuner.get_best_hyperparameters()[0])\n",
        "\n",
        "# Reshape train_data to have 32 samples in the first dimension\n",
        "train_data = X_train.reshape(32,1, 10)  # Assuming X_train has shape (32, 32, 10)\n",
        "val_data = X_val.reshape(32, 1,10)\n",
        "\n",
        "# Assuming train_labels and val_labels are correct (shape should be (32,))\n",
        "history = lnn_model.fit(train_data, train_labels,\n",
        "                    validation_data=(val_data, val_labels),\n",
        "                    epochs=10000,\n",
        "                    callbacks=[best_model_exporter,early_stopper])\n"
      ]
    },
    {
      "cell_type": "code",
      "execution_count": null,
      "metadata": {
        "id": "fL35kOYx3Ruk"
      },
      "outputs": [],
      "source": [
        "# Post-processing to generate the future burn map\n",
        "threshold = 0.8  # This is experimentally set as per your methodology\n",
        "\n",
        "def post_process(predictions, threshold=0.8):\n",
        "    # Apply threshold to convert probabilities to binary burn map\n",
        "    burn_map = (predictions > threshold).astype(np.int32)\n",
        "    return burn_map\n",
        "\n",
        "# Predict on test data\n",
        "\n",
        "num_samples = test_top_features.shape[0]  # Get the number of samples\n",
        "\n",
        "print(test_top_features.shape)\n",
        "\n",
        "test_data = test_top_features.reshape(num_samples, 1, 10) # Reshape based on num_samples\n",
        "predictions = lnn_model.predict(test_data)\n",
        "burn_map = post_process(predictions)"
      ]
    },
    {
      "cell_type": "code",
      "execution_count": null,
      "metadata": {
        "id": "l49iQ0GL3jtE"
      },
      "outputs": [],
      "source": [
        "from sklearn.metrics import f1_score, precision_score, recall_score, accuracy_score\n",
        "import numpy as np\n",
        "\n",
        "y_test = test_labels.numpy()\n",
        "\n",
        "# Get the original shape of burn_map\n",
        "original_shape = burn_map.shape\n",
        "\n",
        "# Print the original shape of burn_map for debugging\n",
        "print(\"Original shape of burn_map:\", original_shape)\n",
        "\n",
        "# Reshape burn_map to a 2D array with the number of samples in the first dimension\n",
        "burn_map = burn_map.reshape(burn_map.shape[0], -1)  # -1 infers the remaining dimensions\n",
        "\n",
        "# Reshape burn_map to have the same number of samples as y_test\n",
        "burn_map = burn_map.reshape(y_test.shape[0], -1)  # -1 infers the remaining dimensions\n",
        "\n",
        "# Print the shape of burn_map and y_test for debugging\n",
        "print(\"Shape of burn_map after reshape:\", burn_map.shape)\n",
        "print(\"Shape of y_test:\", y_test.shape)\n",
        "\n",
        "# Reshape burn_map to match the number of samples in y_test\n",
        "# burn_map = burn_map.reshape(y_test.shape[0])  # Assuming y_test is 1D\n",
        "\n",
        "# Flattening predictions and labels for metric calculation\n",
        "y_true = y_test.flatten()\n",
        "y_pred = burn_map.flatten()\n",
        "\n",
        "# Calculate metrics\n",
        "precision = precision_score(y_true, y_pred, average='weighted') # or 'micro', 'macro'\n",
        "recall = recall_score(y_true, y_pred, average='weighted')  # or 'micro', 'macro'\n",
        "f1 = f1_score(y_true, y_pred, average='weighted')      # or 'micro', 'macro'\n",
        "overall_accuracy = accuracy_score(y_true, y_pred)\n",
        "\n",
        "print(f\"Precision: {precision}\")\n",
        "print(f\"Recall: {recall}\")\n",
        "print(f\"F1-Score: {f1}\")\n",
        "print(f\"Overall Accuracy: {overall_accuracy}\")"
      ]
    },
    {
      "cell_type": "code",
      "execution_count": null,
      "metadata": {
        "id": "l5LA2bmTv_Eo"
      },
      "outputs": [],
      "source": [
        "cnn_model = keras.models.load_model('/content/drive/MyDrive/models/CNN_multi_kernal/20241105_211252/best_model.h5', compile=False)"
      ]
    },
    {
      "cell_type": "code",
      "execution_count": null,
      "metadata": {
        "id": "nAMUpc7cqNNv"
      },
      "outputs": [],
      "source": [
        "# Post-processing to generate the future burn map\n",
        "threshold = 0.8  # This is experimentally set as per your methodology\n",
        "\n",
        "def post_process(predictions, threshold=0.8):\n",
        "    # Apply threshold to convert probabilities to binary burn map\n",
        "    burn_map = (predictions > threshold).astype(np.int32)\n",
        "    return burn_map\n",
        "\n",
        "# Predict on test data\n",
        "\n",
        "predictions_ = cnn_model.predict(test_inputs)\n",
        "burn_map_ = post_process(predictions_)"
      ]
    },
    {
      "cell_type": "code",
      "execution_count": null,
      "metadata": {
        "id": "-cl-JeDAu32o"
      },
      "outputs": [],
      "source": []
    },
    {
      "cell_type": "code",
      "execution_count": null,
      "metadata": {
        "id": "UMsi5eRSqo0V"
      },
      "outputs": [],
      "source": [
        "from sklearn.metrics import f1_score, precision_score, recall_score, accuracy_score\n",
        "import numpy as np\n",
        "\n",
        "# Assuming you have your test data and labels loaded as test_inputs and y_test respectively\n",
        "\n",
        "# Reshape y_test to match burn_map if necessary\n",
        "y_test = test_labels.numpy()\n",
        "\n",
        "# Get the original shape of burn_map\n",
        "original_shape = burn_map_.shape\n",
        "\n",
        "# Print the original shape of burn_map for debugging\n",
        "print(\"Original shape of burn_map:\", original_shape)\n",
        "\n",
        "# Reshape burn_map to a 2D array with the number of samples in the first dimension\n",
        "burn_map_ = burn_map_.reshape(burn_map.shape[0], -1)  # -1 infers the remaining dimensions\n",
        "\n",
        "# Reshape burn_map to have the same number of samples as y_test\n",
        "burn_map_ = burn_map_.reshape(y_test.shape[0], -1)  # -1 infers the remaining dimensions\n",
        "\n",
        "# Print the shape of burn_map and y_test for debugging\n",
        "print(\"Shape of burn_map after reshape:\", burn_map_.shape)\n",
        "print(\"Shape of y_test:\", y_test.shape)\n",
        "\n",
        "# Reshape burn_map to match the number of samples in y_test\n",
        "# burn_map = burn_map.reshape(y_test.shape[0])  # Assuming y_test is 1D\n",
        "\n",
        "# Flattening predictions and labels for metric calculation\n",
        "y_true = y_test.flatten()\n",
        "y_pred = burn_map_.flatten()\n",
        "\n",
        "# Calculate metrics\n",
        "precision = precision_score(y_true, y_pred, average='weighted') # or 'micro', 'macro'\n",
        "recall = recall_score(y_true, y_pred, average='weighted')  # or 'micro', 'macro'\n",
        "f1 = f1_score(y_true, y_pred, average='weighted')      # or 'micro', 'macro'\n",
        "overall_accuracy = accuracy_score(y_true, y_pred)\n",
        "\n",
        "print(f\"Precision: {precision}\")\n",
        "print(f\"Recall: {recall}\")\n",
        "print(f\"F1-Score: {f1}\")\n",
        "print(f\"Overall Accuracy: {overall_accuracy}\")"
      ]
    },
    {
      "cell_type": "code",
      "execution_count": null,
      "metadata": {
        "id": "Nwwtx55jzKAN"
      },
      "outputs": [],
      "source": [
        "Original shape of burn_map: (32, 32, 32, 1)\n",
        "Shape of burn_map after reshape: (32, 1024)\n",
        "Shape of y_test: (32, 32, 32, 1)\n",
        "Precision: 0.7520422859045738\n",
        "Recall: 0.86383056640625\n",
        "F1-Score: 0.8040695935517047\n",
        "Overall Accuracy: 0.86383056640625\n",
        "/usr/local/lib/python3.10/dist-packages/sklearn/metrics/_classification.py:1531: UndefinedMetricWarning: Precision is ill-defined and being set to 0.0 in labels with no predicted samples. Use `zero_division` parameter to control this behavior.\n",
        "  _warn_prf(average, modifier, f\"{metric.capitalize()} is\", len(result))\n"
      ]
    },
    {
      "cell_type": "code",
      "execution_count": null,
      "metadata": {
        "id": "OlGxlpxN64sM"
      },
      "outputs": [],
      "source": [
        "\n",
        "\n",
        "import matplotlib.pyplot as plt\n",
        "\n",
        "# Plot training & validation accuracy values\n",
        "plt.figure(figsize=(10, 5))\n",
        "plt.plot(history.history['accuracy'])\n",
        "plt.plot(history.history['val_accuracy'])\n",
        "plt.title('Model accuracy')\n",
        "plt.ylabel('Accuracy')\n",
        "plt.xlabel('Epoch')\n",
        "plt.legend(['Train', 'Validation'], loc='upper left')\n",
        "plt.show()\n",
        "\n",
        "\n",
        "\n",
        "\n",
        "\n",
        "\n",
        "\n"
      ]
    },
    {
      "cell_type": "code",
      "execution_count": null,
      "metadata": {
        "id": "RxPNJsHNNgaK"
      },
      "outputs": [],
      "source": [
        "# Plot training & validation loss values\n",
        "plt.figure(figsize=(10, 5))\n",
        "plt.plot(history.history['loss'])\n",
        "plt.plot(history.history['val_loss'])\n",
        "plt.title('Model loss')\n",
        "plt.ylabel('Loss')\n",
        "plt.xlabel('Epoch')\n",
        "plt.legend(['Train', 'Validation'], loc='upper left')\n",
        "plt.show()"
      ]
    },
    {
      "cell_type": "code",
      "execution_count": null,
      "metadata": {
        "id": "N61TIzizNiSm"
      },
      "outputs": [],
      "source": [
        "# Plot training & validation auc values\n",
        "plt.figure(figsize=(10, 5))\n",
        "plt.plot(history.history['auc_with_masked_class_2'])\n",
        "plt.plot(history.history['val_auc_with_masked_class_2'])\n",
        "plt.title('Model auc')\n",
        "plt.ylabel('auc')\n",
        "plt.xlabel('Epoch')\n",
        "plt.legend(['Train', 'Validation'], loc='upper left')\n",
        "plt.show()"
      ]
    },
    {
      "cell_type": "code",
      "execution_count": null,
      "metadata": {
        "id": "0lZbdhbVNlFe"
      },
      "outputs": [],
      "source": [
        "# Plot training & validation recall values\n",
        "plt.figure(figsize=(10, 5))\n",
        "plt.plot(history.history['recall_with_masked_class_2'])\n",
        "plt.plot(history.history['val_recall_with_masked_class_2'])\n",
        "plt.title('Model recall')\n",
        "plt.ylabel('recall')\n",
        "plt.xlabel('Epoch')\n",
        "plt.legend(['Train', 'Validation'], loc='upper left')\n",
        "plt.show()"
      ]
    },
    {
      "cell_type": "code",
      "execution_count": null,
      "metadata": {
        "id": "L1HQUDzZNm8a"
      },
      "outputs": [],
      "source": [
        "# Plot training & validation precision values\n",
        "plt.figure(figsize=(10, 5))\n",
        "plt.plot(history.history['precision_with_masked_class'])\n",
        "plt.plot(history.history['val_precision_with_masked_class'])\n",
        "plt.title('Model precision')\n",
        "plt.ylabel('precision')\n",
        "plt.xlabel('Epoch')\n",
        "plt.legend(['Train', 'Validation'], loc='upper left')\n",
        "plt.show()"
      ]
    },
    {
      "cell_type": "code",
      "execution_count": null,
      "metadata": {
        "id": "cfK_pEFvSdza"
      },
      "outputs": [],
      "source": [
        "n_rows = 10\n",
        "n_features = test_inputs.shape[3]\n",
        "CMAP = colors.ListedColormap(['black', 'silver', 'orangered'])\n",
        "BOUNDS = [-1, -0.1, 0.001, 1]\n",
        "NORM = colors.BoundaryNorm(BOUNDS, CMAP.N)\n",
        "keys = INPUT_FEATURES"
      ]
    },
    {
      "cell_type": "code",
      "execution_count": null,
      "metadata": {
        "id": "Zy-kvKJaTOqo"
      },
      "outputs": [],
      "source": [
        "predictions = lnn_model.predict(test_data)\n",
        "burn_map = post_process(predictions)"
      ]
    },
    {
      "cell_type": "code",
      "execution_count": null,
      "metadata": {
        "id": "04qPaqaQT8v_"
      },
      "outputs": [],
      "source": [
        "pred = lnn_model.predict(test_data)\n",
        "plt.imshow(pred[0], cmap='plasma')"
      ]
    },
    {
      "cell_type": "code",
      "execution_count": null,
      "metadata": {
        "id": "qrPY14wGTZ2T"
      },
      "outputs": [],
      "source": [
        "import matplotlib.pyplot as plt\n",
        "from matplotlib import colors\n",
        "import numpy as np\n",
        "\n",
        "# Assuming burn_map is already calculated\n",
        "\n",
        "# Assuming you have your test data and labels loaded as test_inputs and y_test respectively\n",
        "# Example: Assuming your burn_map is a 64x64 image\n",
        "\n",
        "# Choose a specific image from the burn_map array (e.g., the first image)\n",
        "image_index = 0  # You can change this to visualize other images\n",
        "burn_map_image = burn_map[image_index, :, :, 0]  # Select the image and remove the channel dimension\n",
        "\n",
        "# Display the burn map\n",
        "plt.imshow(burn_map_image, cmap='plasma', interpolation='nearest')  # Adjust cmap if needed\n",
        "plt.title('Burn Map')\n",
        "plt.colorbar()  # Show the color scale\n",
        "plt.show()"
      ]
    },
    {
      "cell_type": "code",
      "execution_count": null,
      "metadata": {
        "id": "ci74ccDSSj22"
      },
      "outputs": [],
      "source": [
        "fig = plt.figure(figsize=(9,20))\n",
        "n_rows = 8\n",
        "\n",
        "for i in range(n_rows):\n",
        "  # fire_index = i + 1000  # This line is causing the error\n",
        "  fire_index = i  # Change to this to access indices within the bounds of test_inputs\n",
        "  plt.subplot(n_rows,3, 3*i + 1)\n",
        "  plt.title(\"Last fire\", fontsize=13)\n",
        "  plt.imshow(train_inputs[fire_index, :, :, -1], cmap=CMAP, norm=NORM)\n",
        "  plt.axis('off')\n",
        "  plt.subplot(n_rows,3, 3*i + 2)\n",
        "  plt.title(\"Actual fire\", fontsize=13)\n",
        "  plt.imshow(train_labels[fire_index, :, :, 0], cmap=CMAP, norm=NORM)\n",
        "  plt.axis('off')\n",
        "  plt.subplot(n_rows,3, 3*i + 3)\n",
        "  plt.title(\"Prediction\", fontsize=13)\n",
        "  plt.imshow(pred[fire_index], cmap='plasma')\n",
        "  plt.colorbar()\n",
        "  plt.axis('off')\n",
        "plt.tight_layout()"
      ]
    }
  ],
  "metadata": {
    "accelerator": "GPU",
    "colab": {
      "gpuType": "A100",
      "machine_shape": "hm",
      "provenance": [],
      "mount_file_id": "1jutI6sLiPQtJUneSQSQVYRyT5KA3Ucun",
      "authorship_tag": "ABX9TyO6a2TBDHtPCEw5yQK1+20x",
      "include_colab_link": true
    },
    "kernelspec": {
      "display_name": "Python 3",
      "name": "python3"
    },
    "language_info": {
      "name": "python"
    }
  },
  "nbformat": 4,
  "nbformat_minor": 0
}